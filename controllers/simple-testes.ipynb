{
 "cells": [
  {
   "cell_type": "code",
   "execution_count": 1,
   "id": "3e44fd56-87ff-4fbf-bee7-389ae6e1d730",
   "metadata": {
    "tags": []
   },
   "outputs": [],
   "source": [
    "import db_control"
   ]
  },
  {
   "cell_type": "code",
   "execution_count": 2,
   "id": "db7e21b5-6c89-4875-bbc0-6b7706dee70c",
   "metadata": {
    "tags": []
   },
   "outputs": [
    {
     "name": "stdout",
     "output_type": "stream",
     "text": [
      "CONTAINER ID   IMAGE          COMMAND                  CREATED       STATUS                     PORTS                     NAMES\n",
      "b044f3068e11   mongo:latest   \"docker-entrypoint.sâ€¦\"   5 weeks ago   Up 46 minutes              0.0.0.0:2717->27017/tcp   mymongo\n",
      "48d33571396b   ubuntu         \"sleep 1d\"               5 weeks ago   Exited (137) 5 weeks ago                             gallant_tu\n",
      "ca3bf82d9a34   hello-world    \"/hello\"                 5 weeks ago   Exited (0) 5 weeks ago                               ecstatic_ardinghelli\n"
     ]
    }
   ],
   "source": [
    "!docker ps -a"
   ]
  },
  {
   "cell_type": "code",
   "execution_count": null,
   "id": "122ec30a-dd9a-4a68-9514-6ecdc8ee9a82",
   "metadata": {
    "tags": []
   },
   "outputs": [],
   "source": [
    "!docker start mymongo"
   ]
  },
  {
   "cell_type": "code",
   "execution_count": 3,
   "id": "a1d65efc-a1e5-4b55-965b-8052e79909a0",
   "metadata": {
    "tags": []
   },
   "outputs": [],
   "source": [
    "mydb = db_control.CtrlInfo(r\"mongodb://localhost:2717/\", 'secondDb2')"
   ]
  },
  {
   "cell_type": "code",
   "execution_count": 4,
   "id": "9a5d9328-13aa-45f0-9aed-a7b497651eae",
   "metadata": {
    "tags": []
   },
   "outputs": [
    {
     "data": {
      "text/plain": [
       "db_control.CtrlInfo"
      ]
     },
     "execution_count": 4,
     "metadata": {},
     "output_type": "execute_result"
    }
   ],
   "source": [
    "type(mydb)"
   ]
  },
  {
   "cell_type": "code",
   "execution_count": 5,
   "id": "0a903949-6864-453c-8d36-d5b3f0c6721f",
   "metadata": {
    "tags": []
   },
   "outputs": [],
   "source": [
    "response = mydb.printalldocs()"
   ]
  },
  {
   "cell_type": "code",
   "execution_count": 8,
   "id": "4200b549-8776-404b-ac12-3b6b0f534fd6",
   "metadata": {
    "tags": []
   },
   "outputs": [
    {
     "name": "stdout",
     "output_type": "stream",
     "text": [
      "8\n",
      "{\n",
      "    \"_id\": \"6570fe2ea29d207e9873b1a4\",\n",
      "    \"game\": \"Game_7\",\n",
      "    \"name\": \"Mello this\",\n",
      "    \"class\": \"Strategist\",\n",
      "    \"stregth\": \"-\"\n",
      "}\n"
     ]
    }
   ],
   "source": [
    "print(len(response))\n",
    "print(response[-1])"
   ]
  },
  {
   "cell_type": "code",
   "execution_count": null,
   "id": "bfcc715a-2946-4fcb-8908-e59aa71c324e",
   "metadata": {
    "tags": []
   },
   "outputs": [],
   "source": [
    "message = {\n",
    "    'game': 'Game_8',\n",
    "    'name': 'Mello this', \n",
    "    'class': 'Strategist', \n",
    "    'stregth': \"-\"\n",
    "}"
   ]
  },
  {
   "cell_type": "code",
   "execution_count": null,
   "id": "1721deee-5c55-42e2-bdfa-efc08265a454",
   "metadata": {
    "tags": []
   },
   "outputs": [],
   "source": [
    "try:\n",
    "    id_inserido = mydb.send_to_nosql(message)\n",
    "    print(f\"Documento inserido com sucesso. ID: {id_inserido}\")\n",
    "except Exception as e:\n",
    "    print(f\"Erro ao inserir documento: {e}\")\n"
   ]
  },
  {
   "cell_type": "code",
   "execution_count": null,
   "id": "bc8ff18e-1ff3-4d04-8751-1e03e9ae218b",
   "metadata": {},
   "outputs": [],
   "source": []
  }
 ],
 "metadata": {
  "kernelspec": {
   "display_name": "Python 3 (ipykernel)",
   "language": "python",
   "name": "python3"
  },
  "language_info": {
   "codemirror_mode": {
    "name": "ipython",
    "version": 3
   },
   "file_extension": ".py",
   "mimetype": "text/x-python",
   "name": "python",
   "nbconvert_exporter": "python",
   "pygments_lexer": "ipython3",
   "version": "3.11.3"
  }
 },
 "nbformat": 4,
 "nbformat_minor": 5
}
