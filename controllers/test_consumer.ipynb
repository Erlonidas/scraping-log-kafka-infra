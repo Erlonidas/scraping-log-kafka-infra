{
 "cells": [
  {
   "cell_type": "code",
   "execution_count": 1,
   "id": "e88d2cb7-3501-4acf-a2f0-c058edaaaf48",
   "metadata": {
    "tags": []
   },
   "outputs": [],
   "source": [
    "import kafka_Infra as ki"
   ]
  },
  {
   "cell_type": "code",
   "execution_count": 2,
   "id": "52de98fd-a6bd-4d78-93f7-cbc429040c02",
   "metadata": {
    "tags": []
   },
   "outputs": [],
   "source": [
    "consumidor = ki.Consumer_kaf()"
   ]
  },
  {
   "cell_type": "code",
   "execution_count": 3,
   "id": "e0f93f1f-e8bf-4ffd-b7f8-2aaf4183015b",
   "metadata": {
    "tags": []
   },
   "outputs": [
    {
     "name": "stdout",
     "output_type": "stream",
     "text": [
      "Assignment: [TopicPartition{topic=onlyTopicDone,partition=%I32d,offset=%s,leader_epoch=%s,error=%s}]\n"
     ]
    },
    {
     "name": "stderr",
     "output_type": "stream",
     "text": [
      "% onlyTopicDone [0] at offset 7 with key None:\n"
     ]
    },
    {
     "name": "stdout",
     "output_type": "stream",
     "text": [
      "Message Log successfully received. Length message = 1\n",
      "waiting timeout...\n"
     ]
    }
   ],
   "source": [
    "consumidor.run(broker = 'localhost:19092', topic = 'onlyTopicDone', 'latest')"
   ]
  },
  {
   "cell_type": "code",
   "execution_count": 4,
   "id": "02a835e7-3395-4dd0-b401-7b314f7e64ef",
   "metadata": {
    "tags": []
   },
   "outputs": [],
   "source": [
    "log = consumidor.get_queueDict()"
   ]
  },
  {
   "cell_type": "code",
   "execution_count": 5,
   "id": "6989935e-4af6-476d-bb4d-2fa27bb7c650",
   "metadata": {
    "tags": []
   },
   "outputs": [
    {
     "data": {
      "text/plain": [
       "dict"
      ]
     },
     "execution_count": 5,
     "metadata": {},
     "output_type": "execute_result"
    }
   ],
   "source": [
    "type(log)"
   ]
  },
  {
   "cell_type": "code",
   "execution_count": 8,
   "id": "a45d1502-9841-46ff-b7a8-b9aaa4f7d6ec",
   "metadata": {
    "tags": []
   },
   "outputs": [],
   "source": [
    "x = log.keys()"
   ]
  },
  {
   "cell_type": "code",
   "execution_count": null,
   "id": "93174222-1e92-47e5-9507-ebd012f5bee1",
   "metadata": {},
   "outputs": [],
   "source": []
  }
 ],
 "metadata": {
  "kernelspec": {
   "display_name": "Python 3 (ipykernel)",
   "language": "python",
   "name": "python3"
  },
  "language_info": {
   "codemirror_mode": {
    "name": "ipython",
    "version": 3
   },
   "file_extension": ".py",
   "mimetype": "text/x-python",
   "name": "python",
   "nbconvert_exporter": "python",
   "pygments_lexer": "ipython3",
   "version": "3.11.3"
  }
 },
 "nbformat": 4,
 "nbformat_minor": 5
}
