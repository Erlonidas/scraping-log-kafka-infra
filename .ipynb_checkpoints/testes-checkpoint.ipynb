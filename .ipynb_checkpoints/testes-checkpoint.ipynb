{
 "cells": [
  {
   "cell_type": "code",
   "execution_count": null,
   "id": "abcb460a-178e-4b25-9c1f-7134b65b5f63",
   "metadata": {
    "tags": []
   },
   "outputs": [],
   "source": [
    "import modules.gamesets\n"
   ]
  },
  {
   "cell_type": "code",
   "execution_count": null,
   "id": "5ce9ed4a-3da2-40cc-952c-6059f59806e0",
   "metadata": {},
   "outputs": [],
   "source": [
    "lst = []\n",
    "\n",
    "lst[0] = ui.Players('Ootsukisuk', 1)\n",
    "# p2 = ui.Players('Sasuke', 2)\n",
    "# p3 = ui.Players('Sukuna', 3)\n",
    "\n"
   ]
  },
  {
   "cell_type": "code",
   "execution_count": null,
   "id": "394434b8-4867-445a-93bc-7a105c5eceb7",
   "metadata": {
    "tags": []
   },
   "outputs": [],
   "source": [
    "numero_de_kills = 10\n",
    "\n",
    "while (numero_de_kills >=1):\n",
    "    p3.sum_kills()\n",
    "    numero_de_kills -= 1\n",
    "    "
   ]
  },
  {
   "cell_type": "code",
   "execution_count": null,
   "id": "8f3e4aac-a3c2-493d-af71-a854c032561e",
   "metadata": {
    "tags": []
   },
   "outputs": [],
   "source": [
    "battle = gamesets.Gamesets(1)"
   ]
  },
  {
   "cell_type": "code",
   "execution_count": null,
   "id": "a2a03741-4740-4608-997b-aacbd5165bf5",
   "metadata": {
    "tags": []
   },
   "outputs": [],
   "source": [
    "lst.append(p3)"
   ]
  },
  {
   "cell_type": "code",
   "execution_count": null,
   "id": "8103f983-b19f-4354-895e-f3c391cf26a5",
   "metadata": {
    "tags": []
   },
   "outputs": [],
   "source": [
    "lst[3]"
   ]
  },
  {
   "cell_type": "code",
   "execution_count": null,
   "id": "a43c1c93-1717-4bac-aad5-5f9edd8e2100",
   "metadata": {
    "tags": []
   },
   "outputs": [],
   "source": [
    "for index in range(len(lst)):\n",
    "    battle.adding_kills(lst[index].get_kills)\n",
    "\n",
    "print('total de kills é: ', battle.get_kills)"
   ]
  },
  {
   "cell_type": "code",
   "execution_count": null,
   "id": "a8463e18-29c8-4e27-9bbe-aa4e2356fd21",
   "metadata": {},
   "outputs": [],
   "source": []
  },
  {
   "cell_type": "code",
   "execution_count": null,
   "id": "b1811bb8-3436-45ee-8d4b-42a259cbedf1",
   "metadata": {},
   "outputs": [],
   "source": []
  },
  {
   "cell_type": "code",
   "execution_count": null,
   "id": "6bc6a8a1-3e61-4dfe-83d5-f89f7f96f922",
   "metadata": {
    "tags": []
   },
   "outputs": [],
   "source": [
    "dt = {'erlon': 'menor'}"
   ]
  },
  {
   "cell_type": "code",
   "execution_count": null,
   "id": "7cc27ae5-45f6-465f-b567-ffb96f6f2644",
   "metadata": {},
   "outputs": [],
   "source": [
    "dt['erlon'] = 'almeida'"
   ]
  },
  {
   "cell_type": "code",
   "execution_count": null,
   "id": "317c5cca-4ece-47b4-83e5-b4932f616d0f",
   "metadata": {},
   "outputs": [],
   "source": [
    "dt.get('erlon')"
   ]
  },
  {
   "cell_type": "code",
   "execution_count": null,
   "id": "2743c6dc-b1de-43b4-93a4-47956ad2605f",
   "metadata": {},
   "outputs": [],
   "source": [
    "dt['guilherme'] = 'meio'\n",
    "dt.get('guilherme', False)"
   ]
  },
  {
   "cell_type": "code",
   "execution_count": null,
   "id": "b429f545-f0be-44d9-8fcb-d1ba69888f52",
   "metadata": {},
   "outputs": [],
   "source": [
    "len(dt)"
   ]
  },
  {
   "cell_type": "code",
   "execution_count": null,
   "id": "3f67e978-efc6-45b6-bf63-18d2a7af46aa",
   "metadata": {},
   "outputs": [],
   "source": [
    "import os"
   ]
  },
  {
   "cell_type": "code",
   "execution_count": null,
   "id": "05c7e6cd-421f-48c1-97ea-c378f928db64",
   "metadata": {
    "tags": []
   },
   "outputs": [],
   "source": [
    "path_log = r\"C:\\Users\\erlon\\OneDrive\\Documentos\\Vagas\\cloudwalk\\logs-repo\"\n",
    "for file in os.listdir(path_log):\n",
    "    with open(os.path.join(path_log,file), 'r') as file_handle:\n",
    "        for line in file_handle:\n",
    "            print('Frase? => ', line)\n",
    "            print('detalhe de line é: ', type(line))\n",
    "            input()"
   ]
  },
  {
   "cell_type": "code",
   "execution_count": null,
   "id": "6429388e-bbf3-4902-a091-a7b77565b5b9",
   "metadata": {},
   "outputs": [],
   "source": []
  },
  {
   "cell_type": "code",
   "execution_count": null,
   "id": "660eb4f6-3e85-4c8e-830e-2e8076dfd1c4",
   "metadata": {
    "tags": []
   },
   "outputs": [],
   "source": [
    "var_global1 = 10\n",
    "var_global2 = 20\n",
    "lst = []\n",
    "\n",
    "def listando():\n",
    "    global lst\n",
    "    lst.append('sucesso')\n",
    "# Método 1: Adicionar às variáveis globais\n",
    "def adicionar():\n",
    "    global var_global1, var_global2\n",
    "    var_global1 += 5\n",
    "    var_global2 += 10\n",
    "\n",
    "# Método 2: Subtrair das variáveis globais\n",
    "def subtrair():\n",
    "    global var_global1, var_global2\n",
    "    var_global1 -= 3\n",
    "    var_global2 -= 6\n",
    "\n",
    "# Método 3: Multiplicar as variáveis globais\n",
    "def multiplicar():\n",
    "    global var_global1, var_global2\n",
    "    var_global1 *= 2\n",
    "    var_global2 *= 3\n",
    "\n",
    "# Método 4: Dividir as variáveis globais\n",
    "def dividir():\n",
    "    global var_global1, var_global2\n",
    "    var_global1 /= 2\n",
    "    var_global2 /= 2\n",
    "\n",
    "# Método 5: Imprimir as variáveis globais\n",
    "def imprimir():\n",
    "    print(\"var_global1:\", var_global1)\n",
    "    print(\"var_global2:\", var_global2)\n",
    "    print('listando... ', lst)\n"
   ]
  },
  {
   "cell_type": "code",
   "execution_count": null,
   "id": "3193b38a-7a29-434f-9843-101765b7b0b9",
   "metadata": {
    "tags": []
   },
   "outputs": [],
   "source": [
    "adicionar()\n",
    "listando()\n",
    "imprimir()"
   ]
  },
  {
   "cell_type": "code",
   "execution_count": null,
   "id": "9abc712b-d761-4276-8989-830cd3abd051",
   "metadata": {},
   "outputs": [],
   "source": []
  },
  {
   "cell_type": "code",
   "execution_count": null,
   "id": "fa79f8c2-9076-43c5-94ff-450067e3a674",
   "metadata": {
    "tags": []
   },
   "outputs": [],
   "source": [
    "print(lst)"
   ]
  },
  {
   "cell_type": "code",
   "execution_count": null,
   "id": "5c057c10-8988-440d-9037-254afe428f27",
   "metadata": {
    "tags": []
   },
   "outputs": [],
   "source": [
    "import re"
   ]
  },
  {
   "cell_type": "markdown",
   "id": "677fd1c3-deea-498e-aad5-977f1167f9f9",
   "metadata": {},
   "source": [
    "### Testes dos métodos\n"
   ]
  },
  {
   "cell_type": "code",
   "execution_count": null,
   "id": "fcc3f5ae-cdc1-47fb-a1b4-ab496bad4573",
   "metadata": {
    "tags": []
   },
   "outputs": [],
   "source": [
    "pre_lobby = [0,[1022, True, 'world']]"
   ]
  },
  {
   "cell_type": "code",
   "execution_count": null,
   "id": "d6daa5e5-9fc1-47f1-aabd-489554985492",
   "metadata": {
    "tags": []
   },
   "outputs": [],
   "source": [
    "def clientConnect(line: str):\n",
    "    global pre_lobby\n",
    "    \n",
    "    ID = re.findall(r\":\\s(\\d+)\", line)\n",
    "    ID[0] = int(ID[0])\n",
    "    ID.append(False)  # list: ID from user, False => not clientbegin yet.\n",
    "    try:\n",
    "        pre_lobby[int(ID[0])] = ID\n",
    "    except:\n",
    "        pre_lobby.append(ID)"
   ]
  },
  {
   "cell_type": "code",
   "execution_count": null,
   "id": "81caa089-2203-4ed0-83f9-b6a6a09f3e0a",
   "metadata": {
    "tags": []
   },
   "outputs": [],
   "source": [
    "clientConnect('ClientConnect: 2')"
   ]
  },
  {
   "cell_type": "code",
   "execution_count": null,
   "id": "024ef864-bae9-4d31-8a3a-bfa5f50ced94",
   "metadata": {
    "tags": []
   },
   "outputs": [],
   "source": [
    "print(pre_lobby)"
   ]
  },
  {
   "cell_type": "code",
   "execution_count": null,
   "id": "e2f367dd-b690-4a31-916b-4eb22fc78177",
   "metadata": {},
   "outputs": [],
   "source": []
  },
  {
   "cell_type": "code",
   "execution_count": null,
   "id": "b9ab0d5b-c7e9-437b-94b6-e46ddda281d1",
   "metadata": {
    "tags": []
   },
   "outputs": [],
   "source": [
    "def userChangeInfo(line: str):\n",
    "    global pre_lobby\n",
    "    \n",
    "    # user_new_name = re.findall('n\\\\\\\\(.*?)\\\\t', line)[0]\n",
    "    user_new_name = re.findall(r'n\\\\(.*?)\\\\t', line)[0]\n",
    "    ID_player = int(re.findall(r\":\\s(\\d+) \", line)[0])\n",
    "    pre_lobby[ID_player].append(user_new_name)"
   ]
  },
  {
   "cell_type": "code",
   "execution_count": null,
   "id": "42a3f6aa-901f-456b-974b-781dacd46384",
   "metadata": {
    "tags": []
   },
   "outputs": [],
   "source": [
    "r2 = \"0:59 ClientUserinfoChanged: 3 n\\\\Isgalamido\\\\t\\\\0\\\\model\\\\xian/default\\\\hmodel\\\\xian/default\\\\g_redteam\\\\\\\\g_blueteam\\\\\\\\c1\\\\4\\\\c2\\\\5\\\"\n"
   ]
  },
  {
   "cell_type": "code",
   "execution_count": null,
   "id": "f11e7219-cdd1-4c13-9c0b-b8d27733cf0d",
   "metadata": {
    "tags": []
   },
   "outputs": [],
   "source": [
    "#userChangeInfo('ClientUserinfoChanged: 2 n\\Dono da Bola\\t\\x00\\\\model\\\\sarge/krusade')\n",
    "#r2 = \"1:01 ClientUserinfoChanged: 3 n\\Galamino\\t\\0\\model\\uriel/zael\\hmodel\\uriel/zael\\g_redteam\\\\g_blueteam\\\\c1\\5\\c2\\5\\hc\\100\\w\\0\\l\\0\\tt\\0\\tl\\0\"\n",
    "#r2 = r\"%s\" % r2\n",
    "#index = r2.find('\\model')\n",
    "#r2 = r2[:index]\n",
    "userChangeInfo(r2_)"
   ]
  },
  {
   "cell_type": "code",
   "execution_count": null,
   "id": "beb7b379-e466-49c7-a09e-0b42342b749d",
   "metadata": {
    "tags": []
   },
   "outputs": [],
   "source": [
    "print(pre_lobby)"
   ]
  },
  {
   "cell_type": "code",
   "execution_count": null,
   "id": "c0be7a0f-d5de-4e40-90af-60a395cd220a",
   "metadata": {},
   "outputs": [],
   "source": []
  },
  {
   "cell_type": "code",
   "execution_count": null,
   "id": "3870019f-f140-4f31-8f2c-9b44af3b44d5",
   "metadata": {
    "tags": []
   },
   "outputs": [],
   "source": [
    "string = \"ClientUserinfoChanged: 2 n\\Dono da Bola\\t\\0\\model\\sarge/krusade\"\n",
    "print(string)"
   ]
  },
  {
   "cell_type": "code",
   "execution_count": null,
   "id": "3e1f6809-1962-4b08-96f6-8ae841d1d382",
   "metadata": {
    "tags": []
   },
   "outputs": [],
   "source": [
    "raw = r\"%s\" % string"
   ]
  },
  {
   "cell_type": "code",
   "execution_count": null,
   "id": "4461cd4e-b46c-4782-8fd3-55a8cf0d00c7",
   "metadata": {
    "tags": []
   },
   "outputs": [],
   "source": [
    "raw"
   ]
  },
  {
   "cell_type": "code",
   "execution_count": null,
   "id": "a83c28b6-c6ff-4cfc-8dab-40fb684f4c28",
   "metadata": {
    "tags": []
   },
   "outputs": [],
   "source": [
    "r1 = \"1:01 ClientUserinfoChanged: 3 n\\\\Isgalamido\\\\t\\\\0\"\n",
    "r1_ =\" 0:59 ClientUserinfoChanged: 3 n\\\\Isgalamido\\\\t\\\\0\\\\model\\\\xian/default\\\\hmodel\\\\xian/default\\\\g_redteam\\\\\\\\g_blueteam\\\\\\\\c1\\\\4\\\\c2\\\\5\\\\hc\\\\100\\\\w\\\\0\\\\l\\\\0\\\\tt\\\\0\\\\tl\\\\0\\n\""
   ]
  },
  {
   "cell_type": "code",
   "execution_count": null,
   "id": "ebd529b7-6c18-4a6b-94b9-85732c3aa76b",
   "metadata": {
    "tags": []
   },
   "outputs": [],
   "source": [
    "user_new_name = re.findall(r'n\\\\(.*?)\\\\t', r1_)"
   ]
  },
  {
   "cell_type": "code",
   "execution_count": null,
   "id": "197ae2bc-94e3-4d1c-9c9e-ae03fdc34de6",
   "metadata": {
    "tags": []
   },
   "outputs": [],
   "source": [
    "user_new_name"
   ]
  },
  {
   "cell_type": "code",
   "execution_count": null,
   "id": "a86044ba-d7b9-4cfa-a303-88f700c852e0",
   "metadata": {},
   "outputs": [],
   "source": []
  },
  {
   "cell_type": "code",
   "execution_count": null,
   "id": "87d8214f-04d3-4b25-9c85-ebac419e2a8b",
   "metadata": {},
   "outputs": [],
   "source": [
    "ClientUserinfoChanged: 2 n\\Dono da Bola\t\\model\\sarge/krusade"
   ]
  },
  {
   "cell_type": "code",
   "execution_count": null,
   "id": "47106e5c-7399-4cd5-8d94-aa7d04088b35",
   "metadata": {
    "tags": []
   },
   "outputs": [],
   "source": [
    "import json\n",
    "\n",
    "# Criando alguns dicionários\n",
    "pessoa = {\n",
    "    \"nome\": \"Alice\",\n",
    "    \"idade\": 30,\n",
    "    \"solteira\": True,\n",
    "    \"interesses\": [\"leitura\", \"esportes\"],\n",
    "    \"endereco\": {\n",
    "        \"rua\": \"123 Main St\",\n",
    "        \"cidade\": \"Exemploville\"\n",
    "    }\n",
    "}\n",
    "\n",
    "livro = {\n",
    "    \"titulo\": \"O Hobbit\",\n",
    "    \"autor\": \"J.R.R. Tolkien\",\n",
    "    \"ano\": 1937\n",
    "}\n",
    "\n",
    "# Colocando os dicionários em uma lista\n",
    "dados = [pessoa, livro]\n",
    "\n",
    "# Convertendo a lista de dicionários em JSON\n",
    "json_texto = json.dumps(dados, indent=4)\n",
    "\n",
    "# Imprimindo o JSON gerado\n",
    "print(json_texto)"
   ]
  },
  {
   "cell_type": "code",
   "execution_count": null,
   "id": "b85f141e-0fd8-4fd5-aa0d-051de4dafac2",
   "metadata": {},
   "outputs": [],
   "source": [
    "string_killa = \"1:08 Kill: 3 2 6: Isgalamido killed Mocinha by MOD_ROCKET\""
   ]
  },
  {
   "cell_type": "code",
   "execution_count": null,
   "id": "8cba77c8-6efd-4385-bd0c-e77f08ec9b39",
   "metadata": {
    "tags": []
   },
   "outputs": [],
   "source": [
    "response = re.findall(r'Kill: (\\d+) (\\d+) (\\d+):', string_killa)"
   ]
  },
  {
   "cell_type": "code",
   "execution_count": null,
   "id": "1a0a19a4-37a1-4cc0-a69c-f3922f37a3de",
   "metadata": {
    "tags": []
   },
   "outputs": [],
   "source": [
    "response"
   ]
  },
  {
   "cell_type": "code",
   "execution_count": null,
   "id": "a99bdf26-5d20-4a8e-8803-d8f7542266af",
   "metadata": {
    "tags": []
   },
   "outputs": [],
   "source": [
    "vencedor = int(response[0][0]) "
   ]
  },
  {
   "cell_type": "code",
   "execution_count": null,
   "id": "be5c7258-3e25-4a8c-ac99-e2592b5339ce",
   "metadata": {
    "tags": []
   },
   "outputs": [],
   "source": [
    "type(vencedor)"
   ]
  },
  {
   "cell_type": "code",
   "execution_count": null,
   "id": "c5296da4-1051-4ced-b599-d11c5e1a4ec3",
   "metadata": {},
   "outputs": [],
   "source": []
  },
  {
   "cell_type": "code",
   "execution_count": null,
   "id": "25433ca0-a87d-4fff-b4c9-306bf03cd206",
   "metadata": {
    "tags": []
   },
   "outputs": [],
   "source": [
    "online = {5:['erlonidas', 0]}"
   ]
  },
  {
   "cell_type": "code",
   "execution_count": null,
   "id": "8ccadf15-ee39-4d11-80e1-ac15dbeb2cdd",
   "metadata": {
    "tags": []
   },
   "outputs": [],
   "source": [
    "online[5][1] = online[5][1] + 1"
   ]
  },
  {
   "cell_type": "code",
   "execution_count": null,
   "id": "99b10083-dbbb-4a08-b10f-8c52f4e67a47",
   "metadata": {
    "tags": []
   },
   "outputs": [],
   "source": [
    "online[5]"
   ]
  },
  {
   "cell_type": "code",
   "execution_count": null,
   "id": "588391b4-b869-4ba0-9b9a-7949521ac1ee",
   "metadata": {},
   "outputs": [],
   "source": []
  },
  {
   "cell_type": "code",
   "execution_count": null,
   "id": "e720a4ac-7ca9-4a1c-aa55-50ffc81d9562",
   "metadata": {
    "tags": []
   },
   "outputs": [],
   "source": [
    "lst = ['erlonidas', False, None]"
   ]
  },
  {
   "cell_type": "code",
   "execution_count": null,
   "id": "e6b1e46f-6e8b-41e6-8dc3-19481464d7e6",
   "metadata": {
    "tags": []
   },
   "outputs": [],
   "source": [
    "len(lst)"
   ]
  },
  {
   "cell_type": "code",
   "execution_count": null,
   "id": "dfda79b1-9cf8-43e8-9f7f-8d536d19f9c1",
   "metadata": {},
   "outputs": [],
   "source": [
    "dd = {'MOD_SHOTGUN': 2, 'MOD_GAUNTLET': 1}\n",
    "xx = {'MOD_GAUNTLET': 1, 'MOD_SHOTGUN': 2}"
   ]
  },
  {
   "cell_type": "code",
   "execution_count": null,
   "id": "7f7f7905-f335-4b95-ad59-c6e95214757c",
   "metadata": {
    "tags": []
   },
   "outputs": [],
   "source": [
    "if dd == xx:\n",
    "    print(True)\n",
    "else:\n",
    "    print(False)"
   ]
  },
  {
   "cell_type": "code",
   "execution_count": null,
   "id": "6402d355-ad26-4c30-b485-4d8d7020861c",
   "metadata": {},
   "outputs": [],
   "source": [
    "lista_1 = [3, True, 'Isgalamido']"
   ]
  },
  {
   "cell_type": "code",
   "execution_count": null,
   "id": "0a959147-8aff-4821-a28a-b3d9089e076b",
   "metadata": {
    "tags": []
   },
   "outputs": [],
   "source": [
    "lista_2 = lista_1[1:]"
   ]
  },
  {
   "cell_type": "code",
   "execution_count": null,
   "id": "15fb1ea6-dd3d-448f-9fe6-fceac10c65f4",
   "metadata": {
    "tags": []
   },
   "outputs": [],
   "source": [
    "print(lista_2)"
   ]
  },
  {
   "cell_type": "code",
   "execution_count": null,
   "id": "cb4c38c1-daa3-4edb-bd8a-477a96c5f934",
   "metadata": {
    "tags": []
   },
   "outputs": [],
   "source": [
    "x, y = lista_2"
   ]
  },
  {
   "cell_type": "code",
   "execution_count": null,
   "id": "c90b81a9-1238-40c2-8032-a368f47e1691",
   "metadata": {
    "tags": []
   },
   "outputs": [],
   "source": [
    "x"
   ]
  },
  {
   "cell_type": "code",
   "execution_count": null,
   "id": "0c0bd7d0-5842-40fc-81b3-dbdf8f29271c",
   "metadata": {
    "tags": []
   },
   "outputs": [],
   "source": [
    "y"
   ]
  },
  {
   "cell_type": "code",
   "execution_count": null,
   "id": "49078a69-18d9-451a-8ec8-a7e168453882",
   "metadata": {},
   "outputs": [],
   "source": []
  },
  {
   "cell_type": "code",
   "execution_count": null,
   "id": "cc4e7c6e-08a0-4605-9f88-e267e8804d92",
   "metadata": {
    "tags": []
   },
   "outputs": [],
   "source": [
    "ddd = {5:['name', 10]}\n"
   ]
  },
  {
   "cell_type": "code",
   "execution_count": null,
   "id": "6be02daf-b848-4aff-98df-2781b4f7c6e6",
   "metadata": {
    "tags": []
   },
   "outputs": [],
   "source": [
    "ddd"
   ]
  },
  {
   "cell_type": "code",
   "execution_count": null,
   "id": "f1d5aad8-455d-40e6-ade6-9a0c42354562",
   "metadata": {
    "tags": []
   },
   "outputs": [],
   "source": [
    "del ddd[5]"
   ]
  },
  {
   "cell_type": "code",
   "execution_count": null,
   "id": "21c91cf6-8119-40b9-ad27-42a20500201c",
   "metadata": {
    "tags": []
   },
   "outputs": [],
   "source": [
    "if not ddd:\n",
    "    print('é sim')"
   ]
  },
  {
   "cell_type": "code",
   "execution_count": null,
   "id": "ff41565a-7a35-4e92-ab42-737e44a88dba",
   "metadata": {},
   "outputs": [],
   "source": []
  },
  {
   "cell_type": "code",
   "execution_count": null,
   "id": "11bb85f2-2921-41e7-aa88-505dcdfbb82d",
   "metadata": {
    "tags": []
   },
   "outputs": [],
   "source": [
    "dici = {3: ['Isgalamido', 3]}"
   ]
  },
  {
   "cell_type": "code",
   "execution_count": null,
   "id": "5a51e8a9-ddb1-4ace-8022-59d93842f615",
   "metadata": {
    "tags": []
   },
   "outputs": [],
   "source": [
    "dici[3][1] += 1"
   ]
  },
  {
   "cell_type": "code",
   "execution_count": null,
   "id": "cb60a526-3113-42f6-b377-59f2900f4e2a",
   "metadata": {
    "tags": []
   },
   "outputs": [],
   "source": [
    "dici"
   ]
  },
  {
   "cell_type": "code",
   "execution_count": null,
   "id": "2f78847d-fe10-45e8-a933-526b84616ce2",
   "metadata": {},
   "outputs": [],
   "source": [
    "lst = [1,2,3]\n"
   ]
  },
  {
   "cell_type": "code",
   "execution_count": null,
   "id": "e915a161-070f-4311-9b41-99cce93d6217",
   "metadata": {
    "tags": []
   },
   "outputs": [],
   "source": [
    "if 3 < len(lst):\n",
    "    print(True)"
   ]
  },
  {
   "cell_type": "code",
   "execution_count": null,
   "id": "c1911eee-061d-4d4f-be52-3640c3e668ec",
   "metadata": {},
   "outputs": [],
   "source": []
  },
  {
   "cell_type": "code",
   "execution_count": null,
   "id": "e911acac-ad69-4ad7-a378-705cb7e3ef15",
   "metadata": {
    "tags": []
   },
   "outputs": [],
   "source": [
    "lst = [1,2,4]\n",
    "command = lst[1]"
   ]
  },
  {
   "cell_type": "code",
   "execution_count": null,
   "id": "36acc50e-2d99-4311-80eb-d4714d73fd5a",
   "metadata": {
    "tags": []
   },
   "outputs": [],
   "source": [
    "match 5:\n",
    "    case 1:\n",
    "        print('Erlonidas')\n",
    "    \n",
    "    case 2:\n",
    "        print('Lionidas')\n",
    "        \n",
    "    case 3:\n",
    "        print('Motherfucker')\n",
    "    \n",
    "    case _:\n",
    "        print('whats??')"
   ]
  },
  {
   "cell_type": "code",
   "execution_count": null,
   "id": "936648cc-7902-4041-9df4-5939a2f4e7ac",
   "metadata": {
    "tags": []
   },
   "outputs": [],
   "source": [
    "matchs_commands = {'ClientConnect': 1,\n",
    "          'ClientUserinfoChanged': 2,\n",
    "          'ClientBegin': 3,\n",
    "          'Kill': 4,\n",
    "          'ClientDisconnect': 5}"
   ]
  },
  {
   "cell_type": "code",
   "execution_count": null,
   "id": "8c8468c1-ab18-4fdb-b992-a9189d7b7e9a",
   "metadata": {
    "tags": []
   },
   "outputs": [],
   "source": [
    "lista = matchs_commands.keys()"
   ]
  },
  {
   "cell_type": "code",
   "execution_count": null,
   "id": "d1420489-0973-4216-8a60-9dc2b660e4ef",
   "metadata": {
    "tags": []
   },
   "outputs": [],
   "source": [
    "for line in matchs_commands.keys():\n",
    "    print(type(line))"
   ]
  },
  {
   "cell_type": "code",
   "execution_count": 1,
   "id": "0a65490a-428c-4d6d-bbec-e2a4ef6c24fd",
   "metadata": {},
   "outputs": [],
   "source": [
    "pessoa = {\n",
    "    \"nome\": \"Alice\",\n",
    "    \"idade\": 30,\n",
    "    \"solteira\": True,\n",
    "    \"interesses\": [\"leitura\", \"esportes\"],\n",
    "    \"endereco\": {\n",
    "        \"rua\": \"123 Main St\",\n",
    "        \"cidade\": \"Exemploville\"\n",
    "    }\n",
    "}"
   ]
  },
  {
   "cell_type": "code",
   "execution_count": 6,
   "id": "aecca63d-76ad-4144-897f-754ffbe5fa32",
   "metadata": {
    "tags": []
   },
   "outputs": [
    {
     "name": "stdout",
     "output_type": "stream",
     "text": [
      "achei\n"
     ]
    }
   ],
   "source": [
    "if 'rua' in pessoa.get('endereco'):\n",
    "    print('achei')"
   ]
  },
  {
   "cell_type": "code",
   "execution_count": null,
   "id": "a03c411d-954e-460a-9e39-bc8a8eddd295",
   "metadata": {},
   "outputs": [],
   "source": []
  }
 ],
 "metadata": {
  "kernelspec": {
   "display_name": "Python 3 (ipykernel)",
   "language": "python",
   "name": "python3"
  },
  "language_info": {
   "codemirror_mode": {
    "name": "ipython",
    "version": 3
   },
   "file_extension": ".py",
   "mimetype": "text/x-python",
   "name": "python",
   "nbconvert_exporter": "python",
   "pygments_lexer": "ipython3",
   "version": "3.11.3"
  }
 },
 "nbformat": 4,
 "nbformat_minor": 5
}
