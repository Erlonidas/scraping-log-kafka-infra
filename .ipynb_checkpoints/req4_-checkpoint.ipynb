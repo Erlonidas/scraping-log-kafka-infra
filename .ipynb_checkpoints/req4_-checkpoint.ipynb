{
 "cells": [
  {
   "cell_type": "code",
   "execution_count": 2,
   "id": "c0cdaa15-6b57-4ac9-9399-941362a315b8",
   "metadata": {
    "tags": []
   },
   "outputs": [],
   "source": [
    "import os\n",
    "import re\n",
    "from modules.gamesets import Gamesets\n",
    "from modules.killmethod import ways_of_killing"
   ]
  },
  {
   "cell_type": "code",
   "execution_count": 3,
   "id": "91f92d96-8fe6-41a9-8641-18d0e9e54f10",
   "metadata": {
    "tags": []
   },
   "outputs": [],
   "source": [
    "from IPython.display import clear_output"
   ]
  },
  {
   "cell_type": "code",
   "execution_count": 4,
   "id": "cf8498b5-5843-4f84-851d-e4cac87b1bc0",
   "metadata": {
    "tags": []
   },
   "outputs": [],
   "source": [
    "path_log = r\"C:\\Users\\erlon\\OneDrive\\Documentos\\Vagas\\cloudwalk\\scratch-log\"\n",
    "file_log = \"filtered_game.txt\"\n",
    "content_log = []"
   ]
  },
  {
   "cell_type": "code",
   "execution_count": 5,
   "id": "3801a451-fb36-46cd-a0c6-cf36f5665837",
   "metadata": {
    "tags": []
   },
   "outputs": [],
   "source": [
    "with open(os.path.join(path_log, file_log), 'r') as file_handle:\n",
    "    for line in file_handle:\n",
    "        content_log.append(line)\n",
    "        "
   ]
  },
  {
   "cell_type": "code",
   "execution_count": 6,
   "id": "2f62526a-67fd-4775-b6ec-912aed57ddd2",
   "metadata": {
    "tags": []
   },
   "outputs": [],
   "source": [
    "for line in content_log:\n",
    "        print(line)\n",
    "input()\n",
    "clear_output()"
   ]
  },
  {
   "cell_type": "code",
   "execution_count": 7,
   "id": "a0ecb351-4d13-4b12-a59f-91721ab2376b",
   "metadata": {
    "tags": []
   },
   "outputs": [
    {
     "data": {
      "text/plain": [
       "'12:13 InitGame: \\\\sv_floodProtect\\\\1\\\\sv_maxPing\\\\0\\\\sv_minPing\\\\0\\\\sv_maxRate\\\\10000\\\\sv_minRate\\\\0\\\\sv_hostname\\\\Code Miner Server\\\\g_gametype\\\\0\\\\sv_privateClients\\\\2\\\\sv_maxclients\\\\16\\\\sv_allowDownload\\\\0\\\\bot_minplayers\\\\0\\\\dmflags\\\\0\\\\fraglimit\\\\20\\\\timelimit\\\\15\\\\g_maxGameClients\\\\0\\\\capturelimit\\\\8\\\\version\\\\ioq3 1.36 linux-x86_64 Apr 12 2009\\\\protocol\\\\68\\\\mapname\\\\q3dm17\\\\gamename\\\\baseq3\\\\g_needpass\\\\0\\n'"
      ]
     },
     "execution_count": 7,
     "metadata": {},
     "output_type": "execute_result"
    }
   ],
   "source": [
    "content_log[0]"
   ]
  },
  {
   "cell_type": "code",
   "execution_count": 8,
   "id": "b9116414-3f55-437e-9563-b80e0cadd5ef",
   "metadata": {
    "tags": []
   },
   "outputs": [],
   "source": [
    "gameset = Gamesets(1, content_log[0])\n",
    "kill_method = ways_of_killing()"
   ]
  },
  {
   "cell_type": "code",
   "execution_count": 9,
   "id": "e75da005-03a4-49fb-999f-5066acb44458",
   "metadata": {
    "tags": []
   },
   "outputs": [
    {
     "data": {
      "text/plain": [
       "('q3dm17', '0')"
      ]
     },
     "execution_count": 9,
     "metadata": {},
     "output_type": "execute_result"
    }
   ],
   "source": [
    "gameset.gets_initgame()"
   ]
  },
  {
   "cell_type": "code",
   "execution_count": null,
   "id": "78d96d9b-9fcd-4f94-b34c-a7dc55cd52d6",
   "metadata": {},
   "outputs": [],
   "source": []
  },
  {
   "cell_type": "code",
   "execution_count": null,
   "id": "49f2c3fb-b4d5-458c-bffa-1bc46d69f7a6",
   "metadata": {},
   "outputs": [],
   "source": []
  },
  {
   "cell_type": "code",
   "execution_count": null,
   "id": "b684804a-266f-422e-a0a2-906ac1f403bf",
   "metadata": {},
   "outputs": [],
   "source": []
  },
  {
   "cell_type": "code",
   "execution_count": null,
   "id": "e350d821-adcd-43a1-af38-fd2bc835be12",
   "metadata": {},
   "outputs": [],
   "source": [
    "def execute_sofar():\n",
    "    gameID = gameset.gets_gameID()\n",
    "    total_kill = gameset.gets_boardResume()\n",
    "                        \n",
    "    players = [] \n",
    "    kills = {}\n",
    "    online_dict = gameset.gets_online().values()\n",
    "    for name, score in online_dict:\n",
    "        players.append(name)   \n",
    "        kills[name] = score \n",
    "        \n",
    "    print('ID = ', gameID, '\\n')\n",
    "    print('total de kills = ', total_kill, '\\n')\n",
    "    print(\"Segue abaixo listas e dicionarios \\n\\n\")\n",
    "\n",
    "    for item in players:\n",
    "        print(item)\n",
    "    print('\\n\\n\\n', kills)"
   ]
  },
  {
   "cell_type": "code",
   "execution_count": 20,
   "id": "de2962ee-1e44-4b72-a014-d64f5f011185",
   "metadata": {
    "tags": []
   },
   "outputs": [],
   "source": [
    "# Visualização de resultados quando finalizado\n",
    "def execute_completed( \n",
    "      gameset: Gamesets, \n",
    "      kill_method: ways_of_killing):\n",
    "    \n",
    "    gameID = gameset.gets_gameID()\n",
    "    total_kill = gameset.gets_boardResume()                 \n",
    "    players = [] \n",
    "    kills = {}\n",
    "    \n",
    "    online_dict = gameset.gets_online().values()\n",
    "    for name, score in online_dict:\n",
    "        players.append(name)   \n",
    "        kills[name] = score \n",
    "        \n",
    "    print('ID = ', gameID, '\\n')\n",
    "    print('total de kills = ', total_kill, '\\n')\n",
    "    print(\"Segue abaixo listas e dicionarios \\n\\n\")\n",
    "\n",
    "    for item in players:\n",
    "        print(item)\n",
    "    print('\\n\\n\\n', kills)"
   ]
  },
  {
   "cell_type": "code",
   "execution_count": 10,
   "id": "d3e0f7a7-73ce-4ef9-a336-d7f2c0bd12df",
   "metadata": {
    "tags": []
   },
   "outputs": [],
   "source": [
    "matchs_commands = {'ClientConnect': 1,\n",
    "          'ClientUserinfoChanged': 2,\n",
    "          'ClientBegin': 3,\n",
    "          'Kill': 4,\n",
    "          'ClientDisconnect': 5}"
   ]
  },
  {
   "cell_type": "code",
   "execution_count": 11,
   "id": "0052654e-1367-4edc-ae76-70be55781b23",
   "metadata": {
    "tags": []
   },
   "outputs": [
    {
     "name": "stdout",
     "output_type": "stream",
     "text": [
      "line in analysis... \n",
      "\n",
      "12:13 InitGame: \\sv_floodProtect\\1\\sv_maxPing\\0\\sv_minPing\\0\\sv_maxRate\\10000\\sv_minRate\\0\\sv_hostname\\Code Miner Server\\g_gametype\\0\\sv_privateClients\\2\\sv_maxclients\\16\\sv_allowDownload\\0\\bot_minplayers\\0\\dmflags\\0\\fraglimit\\20\\timelimit\\15\\g_maxGameClients\\0\\capturelimit\\8\\version\\ioq3 1.36 linux-x86_64 Apr 12 2009\\protocol\\68\\mapname\\q3dm17\\gamename\\baseq3\\g_needpass\\0\n",
      "\n"
     ]
    },
    {
     "name": "stdin",
     "output_type": "stream",
     "text": [
      " \n"
     ]
    },
    {
     "name": "stdout",
     "output_type": "stream",
     "text": [
      "Commands value is =  default\n"
     ]
    },
    {
     "name": "stdin",
     "output_type": "stream",
     "text": [
      " \n"
     ]
    },
    {
     "name": "stdout",
     "output_type": "stream",
     "text": [
      "Nothing happens\n"
     ]
    },
    {
     "name": "stdin",
     "output_type": "stream",
     "text": [
      " \n"
     ]
    },
    {
     "name": "stdout",
     "output_type": "stream",
     "text": [
      "line in analysis... \n",
      "\n",
      " 12:14 ClientConnect: 2\n",
      "\n"
     ]
    },
    {
     "name": "stdin",
     "output_type": "stream",
     "text": [
      " \n"
     ]
    },
    {
     "name": "stdout",
     "output_type": "stream",
     "text": [
      "Commands value is =  1\n"
     ]
    },
    {
     "name": "stdin",
     "output_type": "stream",
     "text": [
      " \n"
     ]
    },
    {
     "name": "stdout",
     "output_type": "stream",
     "text": [
      "[0, [1022, True, 'world'], [2, False]]\n"
     ]
    },
    {
     "name": "stdin",
     "output_type": "stream",
     "text": [
      " \n"
     ]
    },
    {
     "name": "stdout",
     "output_type": "stream",
     "text": [
      "line in analysis... \n",
      "\n",
      " 12:14 ClientUserinfoChanged: 2 n\\Dono da Bola\\t\\0\\model\\sarge\\hmodel\\sarge\\g_redteam\\\\g_blueteam\\\\c1\\4\\c2\\5\\hc\\95\\w\\0\\l\\0\\tt\\0\\tl\\0\n",
      "\n"
     ]
    },
    {
     "name": "stdin",
     "output_type": "stream",
     "text": [
      " \n"
     ]
    },
    {
     "name": "stdout",
     "output_type": "stream",
     "text": [
      "Commands value is =  2\n"
     ]
    },
    {
     "name": "stdin",
     "output_type": "stream",
     "text": [
      " \n"
     ]
    },
    {
     "name": "stdout",
     "output_type": "stream",
     "text": [
      "[0, [1022, True, 'world'], [2, False, 'Dono da Bola']]\n"
     ]
    },
    {
     "name": "stdin",
     "output_type": "stream",
     "text": [
      " \n"
     ]
    },
    {
     "name": "stdout",
     "output_type": "stream",
     "text": [
      "line in analysis... \n",
      "\n",
      " 12:14 ClientBegin: 2\n",
      "\n"
     ]
    },
    {
     "name": "stdin",
     "output_type": "stream",
     "text": [
      " \n"
     ]
    },
    {
     "name": "stdout",
     "output_type": "stream",
     "text": [
      "Commands value is =  3\n"
     ]
    },
    {
     "name": "stdin",
     "output_type": "stream",
     "text": [
      " \n"
     ]
    },
    {
     "name": "stdout",
     "output_type": "stream",
     "text": [
      "[0, [1022, True, 'world'], [2, True, 'Dono da Bola']]\n",
      "Online gamers =  {1022: ['world', 0], 2: ['Dono da Bola', 0]}\n"
     ]
    },
    {
     "name": "stdin",
     "output_type": "stream",
     "text": [
      " \n"
     ]
    },
    {
     "name": "stdout",
     "output_type": "stream",
     "text": [
      "line in analysis... \n",
      "\n",
      " 12:14 ClientConnect: 3\n",
      "\n"
     ]
    },
    {
     "name": "stdin",
     "output_type": "stream",
     "text": [
      " \n"
     ]
    },
    {
     "name": "stdout",
     "output_type": "stream",
     "text": [
      "Commands value is =  1\n"
     ]
    },
    {
     "name": "stdin",
     "output_type": "stream",
     "text": [
      " \n"
     ]
    },
    {
     "name": "stdout",
     "output_type": "stream",
     "text": [
      "[0, [1022, True, 'world'], [2, True, 'Dono da Bola'], [3, False]]\n"
     ]
    },
    {
     "name": "stdin",
     "output_type": "stream",
     "text": [
      " \n"
     ]
    },
    {
     "name": "stdout",
     "output_type": "stream",
     "text": [
      "line in analysis... \n",
      "\n",
      " 12:14 ClientUserinfoChanged: 3 n\\Isgalamido\\t\\0\\model\\uriel/zael\\hmodel\\uriel/zael\\g_redteam\\\\g_blueteam\\\\c1\\5\\c2\\5\\hc\\100\\w\\0\\l\\0\\tt\\0\\tl\\0\n",
      "\n"
     ]
    },
    {
     "name": "stdin",
     "output_type": "stream",
     "text": [
      " \n"
     ]
    },
    {
     "name": "stdout",
     "output_type": "stream",
     "text": [
      "Commands value is =  2\n"
     ]
    },
    {
     "name": "stdin",
     "output_type": "stream",
     "text": [
      " \n"
     ]
    },
    {
     "name": "stdout",
     "output_type": "stream",
     "text": [
      "[0, [1022, True, 'world'], [2, True, 'Dono da Bola'], [3, False, 'Isgalamido']]\n"
     ]
    },
    {
     "name": "stdin",
     "output_type": "stream",
     "text": [
      " \n"
     ]
    },
    {
     "name": "stdout",
     "output_type": "stream",
     "text": [
      "line in analysis... \n",
      "\n",
      " 12:14 ClientBegin: 3\n",
      "\n"
     ]
    },
    {
     "name": "stdin",
     "output_type": "stream",
     "text": [
      " \n"
     ]
    },
    {
     "name": "stdout",
     "output_type": "stream",
     "text": [
      "Commands value is =  3\n"
     ]
    },
    {
     "name": "stdin",
     "output_type": "stream",
     "text": [
      " \n"
     ]
    },
    {
     "name": "stdout",
     "output_type": "stream",
     "text": [
      "[0, [1022, True, 'world'], [2, True, 'Dono da Bola'], [3, True, 'Isgalamido']]\n",
      "Online gamers =  {1022: ['world', 0], 2: ['Dono da Bola', 0], 3: ['Isgalamido', 0]}\n"
     ]
    },
    {
     "name": "stdin",
     "output_type": "stream",
     "text": [
      " \n"
     ]
    },
    {
     "name": "stdout",
     "output_type": "stream",
     "text": [
      "line in analysis... \n",
      "\n",
      " 12:14 ClientConnect: 4\n",
      "\n"
     ]
    },
    {
     "name": "stdin",
     "output_type": "stream",
     "text": [
      " \n"
     ]
    },
    {
     "name": "stdout",
     "output_type": "stream",
     "text": [
      "Commands value is =  1\n"
     ]
    },
    {
     "name": "stdin",
     "output_type": "stream",
     "text": [
      " \n"
     ]
    },
    {
     "name": "stdout",
     "output_type": "stream",
     "text": [
      "[0, [1022, True, 'world'], [2, True, 'Dono da Bola'], [3, True, 'Isgalamido'], [4, False]]\n"
     ]
    },
    {
     "name": "stdin",
     "output_type": "stream",
     "text": [
      " \n"
     ]
    },
    {
     "name": "stdout",
     "output_type": "stream",
     "text": [
      "line in analysis... \n",
      "\n",
      " 12:14 ClientUserinfoChanged: 4 n\\Zeh\\t\\0\\model\\sarge/default\\hmodel\\sarge/default\\g_redteam\\\\g_blueteam\\\\c1\\1\\c2\\5\\hc\\100\\w\\0\\l\\0\\tt\\0\\tl\\0\n",
      "\n"
     ]
    },
    {
     "name": "stdin",
     "output_type": "stream",
     "text": [
      " \n"
     ]
    },
    {
     "name": "stdout",
     "output_type": "stream",
     "text": [
      "Commands value is =  2\n"
     ]
    },
    {
     "name": "stdin",
     "output_type": "stream",
     "text": [
      " \n"
     ]
    },
    {
     "name": "stdout",
     "output_type": "stream",
     "text": [
      "[0, [1022, True, 'world'], [2, True, 'Dono da Bola'], [3, True, 'Isgalamido'], [4, False, 'Zeh']]\n"
     ]
    },
    {
     "name": "stdin",
     "output_type": "stream",
     "text": [
      " \n"
     ]
    },
    {
     "name": "stdout",
     "output_type": "stream",
     "text": [
      "line in analysis... \n",
      "\n",
      " 12:14 ClientBegin: 4\n",
      "\n"
     ]
    },
    {
     "name": "stdin",
     "output_type": "stream",
     "text": [
      " \n"
     ]
    },
    {
     "name": "stdout",
     "output_type": "stream",
     "text": [
      "Commands value is =  3\n"
     ]
    },
    {
     "name": "stdin",
     "output_type": "stream",
     "text": [
      " \n"
     ]
    },
    {
     "name": "stdout",
     "output_type": "stream",
     "text": [
      "[0, [1022, True, 'world'], [2, True, 'Dono da Bola'], [3, True, 'Isgalamido'], [4, True, 'Zeh']]\n",
      "Online gamers =  {1022: ['world', 0], 2: ['Dono da Bola', 0], 3: ['Isgalamido', 0], 4: ['Zeh', 0]}\n"
     ]
    },
    {
     "name": "stdin",
     "output_type": "stream",
     "text": [
      " \n"
     ]
    },
    {
     "name": "stdout",
     "output_type": "stream",
     "text": [
      "line in analysis... \n",
      "\n",
      " 12:14 ClientConnect: 5\n",
      "\n"
     ]
    },
    {
     "name": "stdin",
     "output_type": "stream",
     "text": [
      " \n"
     ]
    },
    {
     "name": "stdout",
     "output_type": "stream",
     "text": [
      "Commands value is =  1\n"
     ]
    },
    {
     "name": "stdin",
     "output_type": "stream",
     "text": [
      " \n"
     ]
    },
    {
     "name": "stdout",
     "output_type": "stream",
     "text": [
      "[0, [1022, True, 'world'], [2, True, 'Dono da Bola'], [3, True, 'Isgalamido'], [4, True, 'Zeh'], [5, False]]\n"
     ]
    },
    {
     "name": "stdin",
     "output_type": "stream",
     "text": [
      " \n"
     ]
    },
    {
     "name": "stdout",
     "output_type": "stream",
     "text": [
      "line in analysis... \n",
      "\n",
      " 12:14 ClientUserinfoChanged: 5 n\\Assasinu Credi\\t\\0\\model\\sarge\\hmodel\\sarge\\g_redteam\\\\g_blueteam\\\\c1\\4\\c2\\5\\hc\\100\\w\\0\\l\\0\\tt\\0\\tl\\0\n",
      "\n"
     ]
    },
    {
     "name": "stdin",
     "output_type": "stream",
     "text": [
      " \n"
     ]
    },
    {
     "name": "stdout",
     "output_type": "stream",
     "text": [
      "Commands value is =  2\n"
     ]
    },
    {
     "name": "stdin",
     "output_type": "stream",
     "text": [
      " \n"
     ]
    },
    {
     "name": "stdout",
     "output_type": "stream",
     "text": [
      "[0, [1022, True, 'world'], [2, True, 'Dono da Bola'], [3, True, 'Isgalamido'], [4, True, 'Zeh'], [5, False, 'Assasinu Credi']]\n"
     ]
    },
    {
     "name": "stdin",
     "output_type": "stream",
     "text": [
      " \n"
     ]
    },
    {
     "name": "stdout",
     "output_type": "stream",
     "text": [
      "line in analysis... \n",
      "\n",
      " 12:14 ClientBegin: 5\n",
      "\n"
     ]
    },
    {
     "name": "stdin",
     "output_type": "stream",
     "text": [
      " \n"
     ]
    },
    {
     "name": "stdout",
     "output_type": "stream",
     "text": [
      "Commands value is =  3\n"
     ]
    },
    {
     "name": "stdin",
     "output_type": "stream",
     "text": [
      " \n"
     ]
    },
    {
     "name": "stdout",
     "output_type": "stream",
     "text": [
      "[0, [1022, True, 'world'], [2, True, 'Dono da Bola'], [3, True, 'Isgalamido'], [4, True, 'Zeh'], [5, True, 'Assasinu Credi']]\n",
      "Online gamers =  {1022: ['world', 0], 2: ['Dono da Bola', 0], 3: ['Isgalamido', 0], 4: ['Zeh', 0], 5: ['Assasinu Credi', 0]}\n"
     ]
    },
    {
     "name": "stdin",
     "output_type": "stream",
     "text": [
      " \n"
     ]
    },
    {
     "name": "stdout",
     "output_type": "stream",
     "text": [
      "line in analysis... \n",
      "\n",
      " 12:24 Kill: 3 4 6: Isgalamido killed Zeh by MOD_ROCKET\n",
      "\n"
     ]
    },
    {
     "name": "stdin",
     "output_type": "stream",
     "text": [
      " \n"
     ]
    },
    {
     "name": "stdout",
     "output_type": "stream",
     "text": [
      "Commands value is =  4\n"
     ]
    },
    {
     "name": "stdin",
     "output_type": "stream",
     "text": [
      " \n"
     ]
    },
    {
     "name": "stdout",
     "output_type": "stream",
     "text": [
      "kills =  1\n",
      "Ways of detah dict abaixo: \n",
      " {'MOD_ROCKET': 1}\n",
      "PLACAR SO FAR: \n",
      " {1022: ['world', 0], 2: ['Dono da Bola', 0], 3: ['Isgalamido', 1], 4: ['Zeh', 0], 5: ['Assasinu Credi', 0]}\n"
     ]
    },
    {
     "name": "stdin",
     "output_type": "stream",
     "text": [
      " \n"
     ]
    },
    {
     "name": "stdout",
     "output_type": "stream",
     "text": [
      "line in analysis... \n",
      "\n",
      " 12:26 Kill: 3 2 7: Isgalamido killed Dono da Bola by MOD_ROCKET_SPLASH\n",
      "\n"
     ]
    },
    {
     "name": "stdin",
     "output_type": "stream",
     "text": [
      " \n"
     ]
    },
    {
     "name": "stdout",
     "output_type": "stream",
     "text": [
      "Commands value is =  4\n"
     ]
    },
    {
     "name": "stdin",
     "output_type": "stream",
     "text": [
      " \n"
     ]
    },
    {
     "name": "stdout",
     "output_type": "stream",
     "text": [
      "kills =  2\n",
      "Ways of detah dict abaixo: \n",
      " {'MOD_ROCKET': 1, 'MOD_ROCKET_SPLASH': 1}\n",
      "PLACAR SO FAR: \n",
      " {1022: ['world', 0], 2: ['Dono da Bola', 0], 3: ['Isgalamido', 2], 4: ['Zeh', 0], 5: ['Assasinu Credi', 0]}\n"
     ]
    },
    {
     "name": "stdin",
     "output_type": "stream",
     "text": [
      " \n"
     ]
    },
    {
     "name": "stdout",
     "output_type": "stream",
     "text": [
      "line in analysis... \n",
      "\n",
      " 13:05 ClientDisconnect: 3\n",
      "\n"
     ]
    },
    {
     "name": "stdin",
     "output_type": "stream",
     "text": [
      " \n"
     ]
    },
    {
     "name": "stdout",
     "output_type": "stream",
     "text": [
      "Commands value is =  5\n"
     ]
    },
    {
     "name": "stdin",
     "output_type": "stream",
     "text": [
      " \n"
     ]
    },
    {
     "name": "stdout",
     "output_type": "stream",
     "text": [
      "Reconfigurando jogadores \n",
      " {1022: ['world', 0], 2: ['Dono da Bola', 0], 4: ['Zeh', 0], 5: ['Assasinu Credi', 0]}\n",
      "Jogadores desconectados... {'Isgalamido': 2}\n",
      "line in analysis... \n",
      "\n",
      " 13:26 ClientDisconnect: 2\n",
      "\n"
     ]
    },
    {
     "name": "stdin",
     "output_type": "stream",
     "text": [
      " \n"
     ]
    },
    {
     "name": "stdout",
     "output_type": "stream",
     "text": [
      "Commands value is =  5\n"
     ]
    },
    {
     "name": "stdin",
     "output_type": "stream",
     "text": [
      " \n"
     ]
    },
    {
     "name": "stdout",
     "output_type": "stream",
     "text": [
      "Reconfigurando jogadores \n",
      " {1022: ['world', 0], 4: ['Zeh', 0], 5: ['Assasinu Credi', 0]}\n",
      "Jogadores desconectados... {'Isgalamido': 2, 'Dono da Bola': 0}\n",
      "line in analysis... \n",
      "\n",
      " 13:27 ClientDisconnect: 4\n",
      "\n"
     ]
    },
    {
     "name": "stdin",
     "output_type": "stream",
     "text": [
      " \n"
     ]
    },
    {
     "name": "stdout",
     "output_type": "stream",
     "text": [
      "Commands value is =  5\n"
     ]
    },
    {
     "name": "stdin",
     "output_type": "stream",
     "text": [
      " \n"
     ]
    },
    {
     "name": "stdout",
     "output_type": "stream",
     "text": [
      "Reconfigurando jogadores \n",
      " {1022: ['world', 0], 5: ['Assasinu Credi', 0]}\n",
      "Jogadores desconectados... {'Isgalamido': 2, 'Dono da Bola': 0, 'Zeh': 0}\n",
      "line in analysis... \n",
      "\n",
      " 13:36 ClientConnect: 2\n",
      "\n"
     ]
    },
    {
     "name": "stdin",
     "output_type": "stream",
     "text": [
      " \n"
     ]
    },
    {
     "name": "stdout",
     "output_type": "stream",
     "text": [
      "Commands value is =  1\n"
     ]
    },
    {
     "name": "stdin",
     "output_type": "stream",
     "text": [
      " \n"
     ]
    },
    {
     "name": "stdout",
     "output_type": "stream",
     "text": [
      "[0, [1022, True, 'world'], [2, False], [3, False, None], [4, False, None], [5, True, 'Assasinu Credi']]\n"
     ]
    },
    {
     "name": "stdin",
     "output_type": "stream",
     "text": [
      " \n"
     ]
    },
    {
     "name": "stdout",
     "output_type": "stream",
     "text": [
      "line in analysis... \n",
      "\n",
      " 13:36 ClientUserinfoChanged: 2 n\\Zeh\\t\\0\\model\\sarge/default\\hmodel\\sarge/default\\g_redteam\\\\g_blueteam\\\\c1\\1\\c2\\5\\hc\\100\\w\\0\\l\\0\\tt\\0\\tl\\0\n",
      "\n"
     ]
    },
    {
     "name": "stdin",
     "output_type": "stream",
     "text": [
      " \n"
     ]
    },
    {
     "name": "stdout",
     "output_type": "stream",
     "text": [
      "Commands value is =  2\n"
     ]
    },
    {
     "name": "stdin",
     "output_type": "stream",
     "text": [
      " \n"
     ]
    },
    {
     "name": "stdout",
     "output_type": "stream",
     "text": [
      "[0, [1022, True, 'world'], [2, False, 'Zeh'], [3, False, None], [4, False, None], [5, True, 'Assasinu Credi']]\n"
     ]
    },
    {
     "name": "stdin",
     "output_type": "stream",
     "text": [
      " \n"
     ]
    },
    {
     "name": "stdout",
     "output_type": "stream",
     "text": [
      "line in analysis... \n",
      "\n",
      " 13:37 ClientUserinfoChanged: 2 n\\Zeh\\t\\0\\model\\sarge/default\\hmodel\\sarge/default\\g_redteam\\\\g_blueteam\\\\c1\\1\\c2\\5\\hc\\100\\w\\0\\l\\0\\tt\\0\\tl\\0\n",
      "\n"
     ]
    },
    {
     "name": "stdin",
     "output_type": "stream",
     "text": [
      " \n"
     ]
    },
    {
     "name": "stdout",
     "output_type": "stream",
     "text": [
      "Commands value is =  2\n"
     ]
    },
    {
     "name": "stdin",
     "output_type": "stream",
     "text": [
      " \n"
     ]
    },
    {
     "name": "stdout",
     "output_type": "stream",
     "text": [
      "[0, [1022, True, 'world'], [2, False, 'Zeh'], [3, False, None], [4, False, None], [5, True, 'Assasinu Credi']]\n"
     ]
    },
    {
     "name": "stdin",
     "output_type": "stream",
     "text": [
      " \n"
     ]
    },
    {
     "name": "stdout",
     "output_type": "stream",
     "text": [
      "line in analysis... \n",
      "\n",
      " 13:37 ClientBegin: 2\n",
      "\n"
     ]
    },
    {
     "name": "stdin",
     "output_type": "stream",
     "text": [
      " \n"
     ]
    },
    {
     "name": "stdout",
     "output_type": "stream",
     "text": [
      "Commands value is =  3\n"
     ]
    },
    {
     "name": "stdin",
     "output_type": "stream",
     "text": [
      " \n"
     ]
    },
    {
     "name": "stdout",
     "output_type": "stream",
     "text": [
      "[0, [1022, True, 'world'], [2, True, 'Zeh'], [3, False, None], [4, False, None], [5, True, 'Assasinu Credi']]\n",
      "Online gamers =  {1022: ['world', 0], 5: ['Assasinu Credi', 0], 2: ['Zeh', 0]}\n"
     ]
    },
    {
     "name": "stdin",
     "output_type": "stream",
     "text": [
      " \n"
     ]
    },
    {
     "name": "stdout",
     "output_type": "stream",
     "text": [
      "line in analysis... \n",
      "\n",
      " 14:02 Kill: 1022 5 22: <world> killed Assasinu Credi by MOD_TRIGGER_HURT\n",
      "\n"
     ]
    },
    {
     "name": "stdin",
     "output_type": "stream",
     "text": [
      " \n"
     ]
    },
    {
     "name": "stdout",
     "output_type": "stream",
     "text": [
      "Commands value is =  4\n"
     ]
    },
    {
     "name": "stdin",
     "output_type": "stream",
     "text": [
      " \n"
     ]
    },
    {
     "name": "stdout",
     "output_type": "stream",
     "text": [
      "kills =  3\n",
      "Ways of detah dict abaixo: \n",
      " {'MOD_ROCKET': 1, 'MOD_ROCKET_SPLASH': 1, 'MOD_TRIGGER_HURT': 1}\n",
      "PLACAR SO FAR: \n",
      " {1022: ['world', 0], 5: ['Assasinu Credi', 0], 2: ['Zeh', 0]}\n"
     ]
    },
    {
     "name": "stdin",
     "output_type": "stream",
     "text": [
      " \n"
     ]
    },
    {
     "name": "stdout",
     "output_type": "stream",
     "text": [
      "line in analysis... \n",
      "\n",
      " 14:15 Kill: 2 5 10: Zeh killed Assasinu Credi by MOD_RAILGUN\n",
      "\n"
     ]
    },
    {
     "name": "stdin",
     "output_type": "stream",
     "text": [
      " \n"
     ]
    },
    {
     "name": "stdout",
     "output_type": "stream",
     "text": [
      "Commands value is =  4\n"
     ]
    },
    {
     "name": "stdin",
     "output_type": "stream",
     "text": [
      " \n"
     ]
    },
    {
     "name": "stdout",
     "output_type": "stream",
     "text": [
      "kills =  4\n",
      "Ways of detah dict abaixo: \n",
      " {'MOD_ROCKET': 1, 'MOD_ROCKET_SPLASH': 1, 'MOD_TRIGGER_HURT': 1, 'MOD_RAILGUN': 1}\n",
      "PLACAR SO FAR: \n",
      " {1022: ['world', 0], 5: ['Assasinu Credi', 0], 2: ['Zeh', 1]}\n"
     ]
    },
    {
     "name": "stdin",
     "output_type": "stream",
     "text": [
      " \n"
     ]
    },
    {
     "name": "stdout",
     "output_type": "stream",
     "text": [
      "line in analysis... \n",
      "\n",
      " 14:29 Kill: 5 5 7: Assasinu Credi killed Assasinu Credi by MOD_ROCKET_SPLASH\n",
      "\n"
     ]
    },
    {
     "name": "stdin",
     "output_type": "stream",
     "text": [
      " \n"
     ]
    },
    {
     "name": "stdout",
     "output_type": "stream",
     "text": [
      "Commands value is =  4\n"
     ]
    },
    {
     "name": "stdin",
     "output_type": "stream",
     "text": [
      " \n"
     ]
    },
    {
     "name": "stdout",
     "output_type": "stream",
     "text": [
      "kills =  4\n",
      "Ways of detah dict abaixo: \n",
      " {'MOD_ROCKET': 1, 'MOD_ROCKET_SPLASH': 1, 'MOD_TRIGGER_HURT': 1, 'MOD_RAILGUN': 1}\n",
      "PLACAR SO FAR: \n",
      " {1022: ['world', 0], 5: ['Assasinu Credi', 0], 2: ['Zeh', 1]}\n"
     ]
    },
    {
     "name": "stdin",
     "output_type": "stream",
     "text": [
      " \n"
     ]
    },
    {
     "name": "stdout",
     "output_type": "stream",
     "text": [
      "line in analysis... \n",
      "\n",
      " 14:38 Kill: 1022 5 22: <world> killed Assasinu Credi by MOD_TRIGGER_HURT\n",
      "\n"
     ]
    },
    {
     "name": "stdin",
     "output_type": "stream",
     "text": [
      " \n"
     ]
    },
    {
     "name": "stdout",
     "output_type": "stream",
     "text": [
      "Commands value is =  4\n"
     ]
    },
    {
     "name": "stdin",
     "output_type": "stream",
     "text": [
      " \n"
     ]
    },
    {
     "name": "stdout",
     "output_type": "stream",
     "text": [
      "kills =  5\n",
      "Ways of detah dict abaixo: \n",
      " {'MOD_ROCKET': 1, 'MOD_ROCKET_SPLASH': 1, 'MOD_TRIGGER_HURT': 2, 'MOD_RAILGUN': 1}\n",
      "PLACAR SO FAR: \n",
      " {1022: ['world', 0], 5: ['Assasinu Credi', 0], 2: ['Zeh', 1]}\n"
     ]
    },
    {
     "name": "stdin",
     "output_type": "stream",
     "text": [
      " \n"
     ]
    },
    {
     "name": "stdout",
     "output_type": "stream",
     "text": [
      "line in analysis... \n",
      "\n",
      " 14:46 Kill: 5 2 6: Assasinu Credi killed Zeh by MOD_ROCKET\n",
      "\n"
     ]
    },
    {
     "name": "stdin",
     "output_type": "stream",
     "text": [
      " \n"
     ]
    },
    {
     "name": "stdout",
     "output_type": "stream",
     "text": [
      "Commands value is =  4\n"
     ]
    },
    {
     "name": "stdin",
     "output_type": "stream",
     "text": [
      " \n"
     ]
    },
    {
     "name": "stdout",
     "output_type": "stream",
     "text": [
      "kills =  6\n",
      "Ways of detah dict abaixo: \n",
      " {'MOD_ROCKET': 2, 'MOD_ROCKET_SPLASH': 1, 'MOD_TRIGGER_HURT': 2, 'MOD_RAILGUN': 1}\n",
      "PLACAR SO FAR: \n",
      " {1022: ['world', 0], 5: ['Assasinu Credi', 1], 2: ['Zeh', 1]}\n"
     ]
    },
    {
     "name": "stdin",
     "output_type": "stream",
     "text": [
      " \n"
     ]
    },
    {
     "name": "stdout",
     "output_type": "stream",
     "text": [
      "line in analysis... \n",
      "\n",
      " 15:06 Kill: 5 2 6: Assasinu Credi killed Zeh by MOD_ROCKET\n",
      "\n"
     ]
    },
    {
     "name": "stdin",
     "output_type": "stream",
     "text": [
      " \n"
     ]
    },
    {
     "name": "stdout",
     "output_type": "stream",
     "text": [
      "Commands value is =  4\n"
     ]
    },
    {
     "name": "stdin",
     "output_type": "stream",
     "text": [
      " \n"
     ]
    },
    {
     "name": "stdout",
     "output_type": "stream",
     "text": [
      "kills =  7\n",
      "Ways of detah dict abaixo: \n",
      " {'MOD_ROCKET': 3, 'MOD_ROCKET_SPLASH': 1, 'MOD_TRIGGER_HURT': 2, 'MOD_RAILGUN': 1}\n",
      "PLACAR SO FAR: \n",
      " {1022: ['world', 0], 5: ['Assasinu Credi', 2], 2: ['Zeh', 1]}\n"
     ]
    },
    {
     "name": "stdin",
     "output_type": "stream",
     "text": [
      " \n"
     ]
    },
    {
     "name": "stdout",
     "output_type": "stream",
     "text": [
      "line in analysis... \n",
      "\n",
      " 15:18 Kill: 2 5 7: Zeh killed Assasinu Credi by MOD_ROCKET_SPLASH\n",
      "\n"
     ]
    },
    {
     "name": "stdin",
     "output_type": "stream",
     "text": [
      " \n"
     ]
    },
    {
     "name": "stdout",
     "output_type": "stream",
     "text": [
      "Commands value is =  4\n"
     ]
    },
    {
     "name": "stdin",
     "output_type": "stream",
     "text": [
      " \n"
     ]
    },
    {
     "name": "stdout",
     "output_type": "stream",
     "text": [
      "kills =  8\n",
      "Ways of detah dict abaixo: \n",
      " {'MOD_ROCKET': 3, 'MOD_ROCKET_SPLASH': 2, 'MOD_TRIGGER_HURT': 2, 'MOD_RAILGUN': 1}\n",
      "PLACAR SO FAR: \n",
      " {1022: ['world', 0], 5: ['Assasinu Credi', 2], 2: ['Zeh', 2]}\n"
     ]
    },
    {
     "name": "stdin",
     "output_type": "stream",
     "text": [
      " \n"
     ]
    },
    {
     "name": "stdout",
     "output_type": "stream",
     "text": [
      "line in analysis... \n",
      "\n",
      " 15:27 Kill: 1022 5 22: <world> killed Assasinu Credi by MOD_TRIGGER_HURT\n",
      "\n"
     ]
    },
    {
     "name": "stdin",
     "output_type": "stream",
     "text": [
      " \n"
     ]
    },
    {
     "name": "stdout",
     "output_type": "stream",
     "text": [
      "Commands value is =  4\n"
     ]
    },
    {
     "name": "stdin",
     "output_type": "stream",
     "text": [
      " \n"
     ]
    },
    {
     "name": "stdout",
     "output_type": "stream",
     "text": [
      "kills =  9\n",
      "Ways of detah dict abaixo: \n",
      " {'MOD_ROCKET': 3, 'MOD_ROCKET_SPLASH': 2, 'MOD_TRIGGER_HURT': 3, 'MOD_RAILGUN': 1}\n",
      "PLACAR SO FAR: \n",
      " {1022: ['world', 0], 5: ['Assasinu Credi', 1], 2: ['Zeh', 2]}\n"
     ]
    },
    {
     "name": "stdin",
     "output_type": "stream",
     "text": [
      " \n"
     ]
    },
    {
     "name": "stdout",
     "output_type": "stream",
     "text": [
      "line in analysis... \n",
      "\n",
      " 15:36 Kill: 5 5 7: Assasinu Credi killed Assasinu Credi by MOD_ROCKET_SPLASH\n",
      "\n"
     ]
    },
    {
     "name": "stdin",
     "output_type": "stream",
     "text": [
      " \n"
     ]
    },
    {
     "name": "stdout",
     "output_type": "stream",
     "text": [
      "Commands value is =  4\n"
     ]
    },
    {
     "name": "stdin",
     "output_type": "stream",
     "text": [
      " \n"
     ]
    },
    {
     "name": "stdout",
     "output_type": "stream",
     "text": [
      "kills =  9\n",
      "Ways of detah dict abaixo: \n",
      " {'MOD_ROCKET': 3, 'MOD_ROCKET_SPLASH': 2, 'MOD_TRIGGER_HURT': 3, 'MOD_RAILGUN': 1}\n",
      "PLACAR SO FAR: \n",
      " {1022: ['world', 0], 5: ['Assasinu Credi', 1], 2: ['Zeh', 2]}\n"
     ]
    },
    {
     "name": "stdin",
     "output_type": "stream",
     "text": [
      " \n"
     ]
    },
    {
     "name": "stdout",
     "output_type": "stream",
     "text": [
      "line in analysis... \n",
      "\n",
      " 15:38 Kill: 1022 2 22: <world> killed Zeh by MOD_TRIGGER_HURT\n",
      "\n"
     ]
    },
    {
     "name": "stdin",
     "output_type": "stream",
     "text": [
      " \n"
     ]
    },
    {
     "name": "stdout",
     "output_type": "stream",
     "text": [
      "Commands value is =  4\n"
     ]
    },
    {
     "name": "stdin",
     "output_type": "stream",
     "text": [
      " \n"
     ]
    },
    {
     "name": "stdout",
     "output_type": "stream",
     "text": [
      "kills =  10\n",
      "Ways of detah dict abaixo: \n",
      " {'MOD_ROCKET': 3, 'MOD_ROCKET_SPLASH': 2, 'MOD_TRIGGER_HURT': 4, 'MOD_RAILGUN': 1}\n",
      "PLACAR SO FAR: \n",
      " {1022: ['world', 0], 5: ['Assasinu Credi', 1], 2: ['Zeh', 1]}\n"
     ]
    },
    {
     "name": "stdin",
     "output_type": "stream",
     "text": [
      " \n"
     ]
    },
    {
     "name": "stdout",
     "output_type": "stream",
     "text": [
      "line in analysis... \n",
      "\n",
      " 15:54 Kill: 5 2 6: Assasinu Credi killed Zeh by MOD_ROCKET\n",
      "\n"
     ]
    },
    {
     "name": "stdin",
     "output_type": "stream",
     "text": [
      " \n"
     ]
    },
    {
     "name": "stdout",
     "output_type": "stream",
     "text": [
      "Commands value is =  4\n"
     ]
    },
    {
     "name": "stdin",
     "output_type": "stream",
     "text": [
      " \n"
     ]
    },
    {
     "name": "stdout",
     "output_type": "stream",
     "text": [
      "kills =  11\n",
      "Ways of detah dict abaixo: \n",
      " {'MOD_ROCKET': 4, 'MOD_ROCKET_SPLASH': 2, 'MOD_TRIGGER_HURT': 4, 'MOD_RAILGUN': 1}\n",
      "PLACAR SO FAR: \n",
      " {1022: ['world', 0], 5: ['Assasinu Credi', 2], 2: ['Zeh', 1]}\n"
     ]
    },
    {
     "name": "stdin",
     "output_type": "stream",
     "text": [
      " \n"
     ]
    },
    {
     "name": "stdout",
     "output_type": "stream",
     "text": [
      "line in analysis... \n",
      "\n",
      " 15:56 ClientDisconnect: 2\n",
      "\n"
     ]
    },
    {
     "name": "stdin",
     "output_type": "stream",
     "text": [
      " \n"
     ]
    },
    {
     "name": "stdout",
     "output_type": "stream",
     "text": [
      "Commands value is =  5\n"
     ]
    },
    {
     "name": "stdin",
     "output_type": "stream",
     "text": [
      " \n"
     ]
    },
    {
     "name": "stdout",
     "output_type": "stream",
     "text": [
      "Reconfigurando jogadores \n",
      " {1022: ['world', 0], 5: ['Assasinu Credi', 2]}\n",
      "Jogadores desconectados... {'Isgalamido': 2, 'Dono da Bola': 0, 'Zeh': 1}\n",
      "line in analysis... \n",
      "\n",
      " 16:46 Kill: 1022 5 22: <world> killed Assasinu Credi by MOD_TRIGGER_HURT\n",
      "\n"
     ]
    },
    {
     "name": "stdin",
     "output_type": "stream",
     "text": [
      " \n"
     ]
    },
    {
     "name": "stdout",
     "output_type": "stream",
     "text": [
      "Commands value is =  4\n"
     ]
    },
    {
     "name": "stdin",
     "output_type": "stream",
     "text": [
      " \n"
     ]
    },
    {
     "name": "stdout",
     "output_type": "stream",
     "text": [
      "kills =  12\n",
      "Ways of detah dict abaixo: \n",
      " {'MOD_ROCKET': 4, 'MOD_ROCKET_SPLASH': 2, 'MOD_TRIGGER_HURT': 5, 'MOD_RAILGUN': 1}\n",
      "PLACAR SO FAR: \n",
      " {1022: ['world', 0], 5: ['Assasinu Credi', 1]}\n"
     ]
    },
    {
     "name": "stdin",
     "output_type": "stream",
     "text": [
      " \n"
     ]
    },
    {
     "name": "stdout",
     "output_type": "stream",
     "text": [
      "line in analysis... \n",
      "\n",
      " 16:47 ClientDisconnect: 5\n",
      "\n"
     ]
    },
    {
     "name": "stdin",
     "output_type": "stream",
     "text": [
      " \n"
     ]
    },
    {
     "name": "stdout",
     "output_type": "stream",
     "text": [
      "Commands value is =  5\n"
     ]
    },
    {
     "name": "stdin",
     "output_type": "stream",
     "text": [
      " \n"
     ]
    },
    {
     "name": "stdout",
     "output_type": "stream",
     "text": [
      "Reconfigurando jogadores \n",
      " {1022: ['world', 0]}\n",
      "Jogadores desconectados... {'Isgalamido': 2, 'Dono da Bola': 0, 'Zeh': 1, 'Assasinu Credi': 1}\n",
      "line in analysis... \n",
      "\n",
      " 27:14 Exit: Timelimit hit.\n",
      "\n"
     ]
    },
    {
     "name": "stdin",
     "output_type": "stream",
     "text": [
      " \n"
     ]
    },
    {
     "name": "stdout",
     "output_type": "stream",
     "text": [
      "Commands value is =  default\n"
     ]
    },
    {
     "name": "stdin",
     "output_type": "stream",
     "text": [
      " \n"
     ]
    },
    {
     "name": "stdout",
     "output_type": "stream",
     "text": [
      "Nothing happens\n"
     ]
    },
    {
     "name": "stdin",
     "output_type": "stream",
     "text": [
      " \n"
     ]
    },
    {
     "name": "stdout",
     "output_type": "stream",
     "text": [
      "line in analysis... \n",
      "\n",
      " 54:21 ShutdownGame:\n"
     ]
    },
    {
     "name": "stdin",
     "output_type": "stream",
     "text": [
      " \n"
     ]
    },
    {
     "name": "stdout",
     "output_type": "stream",
     "text": [
      "Commands value is =  default\n"
     ]
    },
    {
     "name": "stdin",
     "output_type": "stream",
     "text": [
      " \n"
     ]
    },
    {
     "name": "stdout",
     "output_type": "stream",
     "text": [
      "Nothing happens\n"
     ]
    },
    {
     "name": "stdin",
     "output_type": "stream",
     "text": [
      " \n"
     ]
    }
   ],
   "source": [
    "\n",
    "for line in content_log:\n",
    "    print('##########################################################')\n",
    "    print('line in analysis... \\n')\n",
    "    command = 'default'\n",
    "    line = r\"\" + line\n",
    "    print(line)\n",
    "    input()\n",
    "    for option in matchs_commands.keys():\n",
    "        if option in line:\n",
    "            command = matchs_commands.get(option)\n",
    "    print('Commands value is = ', command)\n",
    "    input()\n",
    "    match command:\n",
    "        case 1: # ClientConnect\n",
    "            gameset.clientConnect(line)\n",
    "            lista = gameset.gets_listprelobby()\n",
    "            print(lista)\n",
    "            input()\n",
    "            \n",
    "        case 2: # ClientUserinfoChanged\n",
    "            gameset.userChangeInfo(line)\n",
    "            lista = gameset.gets_listprelobby()\n",
    "            print(lista)\n",
    "            input()\n",
    "            \n",
    "        case 3: # ClientBegin\n",
    "            gameset.clientBegin(line)\n",
    "            lista = gameset.gets_listprelobby()\n",
    "            print(lista)\n",
    "            online_ = gameset.gets_online()\n",
    "            print('Online gamers = ', online_)\n",
    "            input()\n",
    "            \n",
    "        case 4: # Kill\n",
    "            _ = gameset.kill(line, kill_method)\n",
    "            total_kill = gameset.gets_boardResume()\n",
    "            print('kills = ', total_kill)\n",
    "            wayskilled = kill_method.gets_board()\n",
    "            placar  = gameset.gets_online()\n",
    "            print('Ways of death dict abaixo: \\n', wayskilled)\n",
    "            print('PLACAR SO FAR: \\n', placar)\n",
    "            \n",
    "            input()\n",
    "            \n",
    "        case 5: # clientdisconnect\n",
    "            gameset.clientdisconnect(line)\n",
    "            placar  = gameset.gets_online()\n",
    "            print('Reconfigurando jogadores \\n', placar) \n",
    "            print('Jogadores desconectados...', gameset.gets_disconnected())\n",
    "            \n",
    "        case _:\n",
    "            print('Nothing happens')\n",
    "            input()\n",
    "            \n",
    "    \n",
    "            "
   ]
  },
  {
   "cell_type": "raw",
   "id": "d265d7df-1dca-40b5-b7c6-ec43d416953e",
   "metadata": {},
   "source": [
    "Resumo manual do log:\n",
    "    Ngame = \"game_1\"\n",
    "        player[2] = Dono da bola - OF\n",
    "        player[3] = NONE - OFF\n",
    "        player[4] = NONE - OFF\n",
    "        player[5] = Assasinu Credi - ON\n",
    "    \n",
    "    Board_resume:\n",
    "        Kill: 3 4 6 => MOD_ROCKET / ISGALAMIDO\n",
    "        Kill: 3 2 7 => MOD_ROCKET_SPLASH / ISGALAMIDO\n",
    "        \n",
    "        \n",
    "    \n",
    " ==============================================================================   \n",
    "      \"game_1\": {\n",
    "    \t\t\"total_kills\": 4,\n",
    "    \t\t\"players\": [\"Mocinha\", \"Ismagalido\", \"Zeh\"],\n",
    "    \t\t\"kills\": {\n",
    "      \t\t\t  \"Ismagalido\": 1\n",
    "     \t\t }\n",
    "       }"
   ]
  },
  {
   "cell_type": "code",
   "execution_count": 12,
   "id": "5525373f-5fe4-4b4d-a9a1-27373f7b289e",
   "metadata": {
    "tags": []
   },
   "outputs": [
    {
     "name": "stdout",
     "output_type": "stream",
     "text": [
      "ID =  game_1 \n",
      "\n",
      "total de kills =  12 \n",
      "\n",
      "Segue abaixo listas e dicionarios \n",
      "\n",
      "\n",
      "world\n",
      "\n",
      "\n",
      "\n",
      " {'world': 0}\n"
     ]
    }
   ],
   "source": [
    "execute_sofar()"
   ]
  },
  {
   "cell_type": "code",
   "execution_count": 18,
   "id": "cce209e0-d01b-460b-90c8-7c3fc9e89674",
   "metadata": {},
   "outputs": [
    {
     "data": {
      "text/plain": [
       "modules.killmethod.ways_of_killing"
      ]
     },
     "execution_count": 18,
     "metadata": {},
     "output_type": "execute_result"
    }
   ],
   "source": [
    "type(kill_method)"
   ]
  },
  {
   "cell_type": "code",
   "execution_count": null,
   "id": "ef1de725-ab77-40da-bf0b-eab9b916df61",
   "metadata": {},
   "outputs": [],
   "source": []
  }
 ],
 "metadata": {
  "kernelspec": {
   "display_name": "Python 3 (ipykernel)",
   "language": "python",
   "name": "python3"
  },
  "language_info": {
   "codemirror_mode": {
    "name": "ipython",
    "version": 3
   },
   "file_extension": ".py",
   "mimetype": "text/x-python",
   "name": "python",
   "nbconvert_exporter": "python",
   "pygments_lexer": "ipython3",
   "version": "3.11.3"
  }
 },
 "nbformat": 4,
 "nbformat_minor": 5
}
