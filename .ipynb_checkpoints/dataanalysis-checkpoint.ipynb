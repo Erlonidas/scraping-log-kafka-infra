{
 "cells": [
  {
   "cell_type": "code",
   "execution_count": 1,
   "id": "0c346b1e-6048-4776-b06b-5a39789f4b67",
   "metadata": {
    "tags": []
   },
   "outputs": [],
   "source": [
    "import os\n",
    "import re\n",
    "from IPython.display import clear_output\n",
    "import pandas as pd\n",
    "import numpy as np"
   ]
  },
  {
   "cell_type": "markdown",
   "id": "c70c34b2-ade9-4504-bfae-dfabccacd88d",
   "metadata": {},
   "source": [
    "## Analise de dados em cima da inicialização da sala"
   ]
  },
  {
   "cell_type": "markdown",
   "id": "01130bf0-7d08-4095-aa66-1944ea8fa629",
   "metadata": {},
   "source": [
    "### Aqui é iniciado a limpeza de dados para depois avaliar o que pode ser feito"
   ]
  },
  {
   "cell_type": "code",
   "execution_count": 2,
   "id": "b73f1434-2db7-43d3-af1e-6eb2eb2c8246",
   "metadata": {
    "tags": []
   },
   "outputs": [],
   "source": [
    "path_log = r\"C:\\Users\\erlon\\OneDrive\\Documentos\\Vagas\\cloudwalk\"\n",
    "file_log = \"INITGAMES.txt\"\n",
    "content_log = []"
   ]
  },
  {
   "cell_type": "code",
   "execution_count": 3,
   "id": "76b50bf4-56f5-4ab9-ac5a-c42d6edf1dda",
   "metadata": {
    "tags": []
   },
   "outputs": [],
   "source": [
    "with open(os.path.join(path_log, file_log), 'r') as handle:\n",
    "    for line in handle:\n",
    "        if line == '\\n':\n",
    "            continue\n",
    "        content_log.append(line.strip().split('\\\\'))\n"
   ]
  },
  {
   "cell_type": "code",
   "execution_count": 4,
   "id": "1007fe70-d183-4e3d-a3c4-8fdb3ee775e3",
   "metadata": {
    "tags": []
   },
   "outputs": [
    {
     "data": {
      "text/plain": [
       "40"
      ]
     },
     "execution_count": 4,
     "metadata": {},
     "output_type": "execute_result"
    }
   ],
   "source": [
    "len(content_log)"
   ]
  },
  {
   "cell_type": "code",
   "execution_count": 5,
   "id": "10b877eb-fc8c-41c8-ab8c-646d490f9977",
   "metadata": {
    "tags": []
   },
   "outputs": [
    {
     "data": {
      "text/plain": [
       "['0:00 InitGame: ',\n",
       " 'sv_floodProtect',\n",
       " '1',\n",
       " 'sv_maxPing',\n",
       " '0',\n",
       " 'sv_minPing',\n",
       " '0',\n",
       " 'sv_maxRate',\n",
       " '10000',\n",
       " 'sv_minRate',\n",
       " '0',\n",
       " 'sv_hostname',\n",
       " 'Code Miner Server',\n",
       " 'g_gametype',\n",
       " '0',\n",
       " 'sv_privateClients',\n",
       " '2',\n",
       " 'sv_maxclients',\n",
       " '16',\n",
       " 'sv_allowDownload',\n",
       " '0',\n",
       " 'dmflags',\n",
       " '0',\n",
       " 'fraglimit',\n",
       " '20',\n",
       " 'timelimit',\n",
       " '15',\n",
       " 'g_maxGameClients',\n",
       " '0',\n",
       " 'capturelimit',\n",
       " '8',\n",
       " 'version',\n",
       " 'ioq3 1.36 linux-x86_64 Apr 12 2009',\n",
       " 'protocol',\n",
       " '68',\n",
       " 'mapname',\n",
       " 'q3dm17',\n",
       " 'gamename',\n",
       " 'baseq3',\n",
       " 'g_needpass',\n",
       " '0']"
      ]
     },
     "execution_count": 5,
     "metadata": {},
     "output_type": "execute_result"
    }
   ],
   "source": [
    "content_log[0]"
   ]
  },
  {
   "cell_type": "code",
   "execution_count": 6,
   "id": "90071b6f-c05e-4253-a51d-e67fdbf43747",
   "metadata": {
    "tags": []
   },
   "outputs": [],
   "source": [
    "initgames = []\n",
    "for slot in range(0, (len(content_log) - 1), 2):\n",
    "    colunas = []\n",
    "    lineValue = []\n",
    "    for index in range(1, len(content_log[slot][1:39]), 2):\n",
    "        colunas.append(content_log[slot][index])\n",
    "        lineValue.append(content_log[slot][index + 1])\n",
    "    info_gamesets = dict(zip(colunas,lineValue))\n",
    "    initgames.append(info_gamesets)"
   ]
  },
  {
   "cell_type": "code",
   "execution_count": 7,
   "id": "5ce1db09-de1d-4b15-bf97-de1b027f6c19",
   "metadata": {
    "tags": []
   },
   "outputs": [
    {
     "data": {
      "text/plain": [
       "list"
      ]
     },
     "execution_count": 7,
     "metadata": {},
     "output_type": "execute_result"
    }
   ],
   "source": [
    "type(initgames)"
   ]
  },
  {
   "cell_type": "code",
   "execution_count": 8,
   "id": "2f77b9b4-f36b-4c6f-a5be-baba305bdf73",
   "metadata": {
    "tags": []
   },
   "outputs": [],
   "source": [
    "t1 = initgames[0]\n",
    "\n",
    "serie = pd.Series(t1)\n"
   ]
  },
  {
   "cell_type": "code",
   "execution_count": 9,
   "id": "6d6ab1d9-a120-4860-b46e-a43c471d94a2",
   "metadata": {
    "tags": []
   },
   "outputs": [
    {
     "data": {
      "text/plain": [
       "sv_floodProtect                                       1\n",
       "sv_maxPing                                            0\n",
       "sv_minPing                                            0\n",
       "sv_maxRate                                        10000\n",
       "sv_minRate                                            0\n",
       "sv_hostname                           Code Miner Server\n",
       "g_gametype                                            0\n",
       "sv_privateClients                                     2\n",
       "sv_maxclients                                        16\n",
       "sv_allowDownload                                      0\n",
       "dmflags                                               0\n",
       "fraglimit                                            20\n",
       "timelimit                                            15\n",
       "g_maxGameClients                                      0\n",
       "capturelimit                                          8\n",
       "version              ioq3 1.36 linux-x86_64 Apr 12 2009\n",
       "protocol                                             68\n",
       "mapname                                          q3dm17\n",
       "gamename                                         baseq3\n",
       "dtype: object"
      ]
     },
     "execution_count": 9,
     "metadata": {},
     "output_type": "execute_result"
    }
   ],
   "source": [
    "serie"
   ]
  },
  {
   "cell_type": "code",
   "execution_count": null,
   "id": "018d764b-56aa-4c3b-bee7-7925a4eded44",
   "metadata": {},
   "outputs": [],
   "source": []
  }
 ],
 "metadata": {
  "kernelspec": {
   "display_name": "Python 3 (ipykernel)",
   "language": "python",
   "name": "python3"
  },
  "language_info": {
   "codemirror_mode": {
    "name": "ipython",
    "version": 3
   },
   "file_extension": ".py",
   "mimetype": "text/x-python",
   "name": "python",
   "nbconvert_exporter": "python",
   "pygments_lexer": "ipython3",
   "version": "3.11.3"
  }
 },
 "nbformat": 4,
 "nbformat_minor": 5
}
