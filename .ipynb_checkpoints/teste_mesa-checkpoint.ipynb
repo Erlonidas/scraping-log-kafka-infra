{
 "cells": [
  {
   "cell_type": "code",
   "execution_count": 1,
   "id": "2023d650-bfa4-46c9-b430-5abb851c8447",
   "metadata": {
    "tags": []
   },
   "outputs": [],
   "source": [
    "import os\n",
    "import re"
   ]
  },
  {
   "cell_type": "code",
   "execution_count": 2,
   "id": "f3597b26-d5d1-4e2c-a82a-e86006046f92",
   "metadata": {
    "tags": []
   },
   "outputs": [],
   "source": [
    "from modules.gamesets import Gamesets\n",
    "from modules.killmethod import ways_of_killing"
   ]
  },
  {
   "cell_type": "code",
   "execution_count": null,
   "id": "65244faa-76f5-4875-844e-48ef01c84a70",
   "metadata": {},
   "outputs": [],
   "source": [
    "# pkt contorller => dicionario com as 5 string chaves do log:\n",
    "#clientconnect; clientusercxgangeinfo; clientbegin; kill; clientdisconect"
   ]
  },
  {
   "cell_type": "code",
   "execution_count": 3,
   "id": "4a677123-1848-4aa4-8dc7-828b9a3dd945",
   "metadata": {
    "tags": []
   },
   "outputs": [],
   "source": [
    "def filtering_log(origin: str, destiny: str, new_file: str, content: list):\n",
    "    # Receive one file log and filters it, cutting off all info that we dont need.\n",
    "    # Returns a string with valueable info.\n",
    "\n",
    "    with open(os.path.join(origin, 'piece-log.txt'), 'r') as file_handle:\n",
    "        # Filtering process before gather information from each game log\n",
    "        with open(os.path.join(destiny, new_file), 'w') as raw_handle:\n",
    "            for line in file_handle:\n",
    "                if 'Item: ' in line:\n",
    "                    continue\n",
    "                else:\n",
    "                    raw_handle.write(line)\n",
    "                    content.append(line)\n",
    "    # with open(os.path.join(draft_game_path, filtered_game_log), 'r') as fh:\n",
    "    #     return fh.read()    \n",
    "\n",
    "\n"
   ]
  },
  {
   "cell_type": "markdown",
   "id": "9387fdb7-94af-4acd-bebb-dfa376c23dea",
   "metadata": {},
   "source": [
    "## Filtering and testing logs\n",
    "> ### First analysing best ways to extract data from log. For this, required keep only what it needs to accomplish \n",
    "> ### the issue."
   ]
  },
  {
   "cell_type": "code",
   "execution_count": 4,
   "id": "53870e8a-2f11-4950-8740-13c7c36fd184",
   "metadata": {
    "tags": []
   },
   "outputs": [],
   "source": [
    "path_log = r\"C:\\Users\\erlon\\OneDrive\\Documentos\\Vagas\\cloudwalk\\logs-repo\"\n",
    "draft_game_path = r\"C:\\Users\\erlon\\OneDrive\\Documentos\\Vagas\\cloudwalk\\scratch-log\"\n",
    "filtered_game_log = \"filtered_game.txt\"\n",
    "content_log = []"
   ]
  },
  {
   "cell_type": "code",
   "execution_count": 5,
   "id": "53cdc3a8-2f95-4480-83dd-524ea621cc67",
   "metadata": {
    "tags": []
   },
   "outputs": [],
   "source": [
    "# In sequence with cell above.\n",
    "filtering_log(path_log, draft_game_path, filtered_game_log, content_log)"
   ]
  },
  {
   "cell_type": "code",
   "execution_count": null,
   "id": "88db6af3-ae40-43ce-9a43-a88225d1712b",
   "metadata": {
    "tags": []
   },
   "outputs": [],
   "source": [
    "#########################################################################"
   ]
  },
  {
   "cell_type": "code",
   "execution_count": null,
   "id": "0a217078-02a5-48cb-a325-ca3cd102f27d",
   "metadata": {
    "tags": []
   },
   "outputs": [],
   "source": [
    "print(type(content_log))"
   ]
  },
  {
   "cell_type": "code",
   "execution_count": null,
   "id": "0ff4b64c-f2f3-4852-85db-754e67ff6433",
   "metadata": {},
   "outputs": [],
   "source": [
    "len(content_log)"
   ]
  },
  {
   "cell_type": "raw",
   "id": "c426be91-2da1-4299-bf53-b15fd42d6ed3",
   "metadata": {},
   "source": [
    "class Gamesets:\n",
    "    ID_actual_game = 'game_'\n",
    "    total_deaths = 0\n",
    "    pre_lobby = [0,[1022, True, 'world']] # Before (3). {ID, clientBegin = True, 'name_player'}\n",
    "    online = {1022: ['world',0]} # After (3). {ID: [name_player, total_kills]}\n",
    "    disconnected = {} # Related to (5). Collection of kills from players data quit/disconnected the game.\n",
    "    \n",
    "    def __init__(self, ID: int):  \n",
    "        self.ID_actual_game += str(ID) # EX: game_1 \n",
    "    \n",
    "    def clientBegin(self, line: str):\n",
    "        # Confirmed player to interact with others.\n",
    "        ID = re.findall(r\":\\s(\\d+)\", line)\n",
    "        ID[0] = int(ID[0])\n",
    "        index = ID[0]\n",
    "        self.pre_lobby[index][1] = True \n",
    "        new_player_name = self.pre_lobby[index][2]\n",
    "        self.sets_online(index,[new_player_name, 0]) #[name_player, total_kills]"
   ]
  },
  {
   "cell_type": "code",
   "execution_count": null,
   "id": "d74522ee-f963-4eab-afa6-71490862f27b",
   "metadata": {},
   "outputs": [],
   "source": [
    "gameset = Gamesets(2)"
   ]
  },
  {
   "cell_type": "code",
   "execution_count": null,
   "id": "6fa5890c-b6ae-4445-b17d-76ab42ee165d",
   "metadata": {
    "tags": []
   },
   "outputs": [],
   "source": [
    "user = [2,False, \"generic_player\"]\n",
    "gameset.sets_Userinlobby(2, user)\n",
    "\n",
    "# o problema é que nao foi criado nada antes na lista.\n",
    "# voce substitui se ja foi criado na lista, se nao foi criado voce \n",
    "# voce faz o append.\n",
    "# o problema ta na classe Gamesets método sets_Userinlobby"
   ]
  },
  {
   "cell_type": "code",
   "execution_count": null,
   "id": "bbcfb6c9-25f1-4f37-9b40-d3c3ee4d202e",
   "metadata": {},
   "outputs": [],
   "source": []
  },
  {
   "cell_type": "code",
   "execution_count": null,
   "id": "68b89121-8b37-4820-a71f-e4140a47af03",
   "metadata": {},
   "outputs": [],
   "source": []
  },
  {
   "cell_type": "raw",
   "id": "b1910780-8621-4871-a1c5-b8320bb1cda6",
   "metadata": {},
   "source": [
    "class Test_client_disconnection:\n",
    "    def setup(self):\n",
    "        zeh_prelobby = [2, True, 'Zeh da manga']\n",
    "        zeh_online = ['zeh da manga', 7]    <<<<< ja tem merda aqui Z minusculo\n",
    "        \n",
    "        self.gameset = Gamesets(1)\n",
    "        # Setting info that methods clientBegin and userchangeinfo should do.\n",
    "        # including a few kills scored.\n",
    "        self.gameset.sets_Userinlobby(2, zeh_prelobby)\n",
    "        self.gameset.sets_online(2, zeh_online)\n",
    "\n",
    "    def test_clientdisconnect_successful(self):\n",
    "        # Test the clientdisconnect method when a player disconnects successfully\n",
    "        identification = 2\n",
    "        self.gameset.clientdisconnect(identification)\n",
    "        info_prelobby = self.gameset.gets_Userinlobby(identification) #list length = 3\n",
    "        info_online = self.gameset.gets_online() #dictionary\n",
    "        # if dict is empty. User successfully deleted\n",
    "        assert not info_online.get(identification, False) \n",
    "        # Opening False for ID in pre_lobby...\n",
    "        assert info_prelobby[2][1] == False\n",
    "        # ... and old playes' name is None\n",
    "        #assert info_prelobby[2][2] is None\n",
    "        assert isinstance(info_prelobby[2][2], None)\n",
    "        # Registering if score of user is registered for further analysis of game\n",
    "        assert self.gameset.gets_disconnected == {'zeh da manga', 7}"
   ]
  },
  {
   "cell_type": "code",
   "execution_count": 3,
   "id": "eb23e105-dfa8-4a9b-9a4d-4b94cf6e353c",
   "metadata": {
    "tags": []
   },
   "outputs": [],
   "source": [
    "zeh_prelobby = [2, True, 'Zeh da manga']\n",
    "zeh_online = ['zeh da manga', 7]\n",
    "\n",
    "gameset = Gamesets(1)\n",
    "gameset.sets_Userinlobby(2, zeh_prelobby)\n",
    "gameset.sets_online(2, zeh_online)"
   ]
  },
  {
   "cell_type": "code",
   "execution_count": 9,
   "id": "68765532-bc50-4e2e-9f32-e5116556a919",
   "metadata": {
    "tags": []
   },
   "outputs": [
    {
     "data": {
      "text/plain": [
       "[2, False, None]"
      ]
     },
     "execution_count": 9,
     "metadata": {},
     "output_type": "execute_result"
    }
   ],
   "source": [
    "gameset.gets_Userinlobby(2)"
   ]
  },
  {
   "cell_type": "code",
   "execution_count": 10,
   "id": "c061f40e-26c4-4b4d-a39e-8f12df57bfc0",
   "metadata": {
    "tags": []
   },
   "outputs": [
    {
     "data": {
      "text/plain": [
       "{1022: ['world', 0]}"
      ]
     },
     "execution_count": 10,
     "metadata": {},
     "output_type": "execute_result"
    }
   ],
   "source": [
    "gameset.gets_online()"
   ]
  },
  {
   "cell_type": "code",
   "execution_count": 8,
   "id": "2f6e6014-1a96-4c9f-8fcd-6d1270b55c66",
   "metadata": {
    "tags": []
   },
   "outputs": [],
   "source": [
    "identificador = 2\n",
    "gameset.clientdisconnect(identificador)"
   ]
  },
  {
   "cell_type": "code",
   "execution_count": 11,
   "id": "0ed19262-ef71-4665-ac8d-2ceb67c573f8",
   "metadata": {
    "tags": []
   },
   "outputs": [],
   "source": [
    "info_prelobby = gameset.gets_Userinlobby(identificador)"
   ]
  },
  {
   "cell_type": "code",
   "execution_count": 12,
   "id": "f29bcda0-9c08-4e91-a814-3c3c5882cb99",
   "metadata": {
    "tags": []
   },
   "outputs": [
    {
     "data": {
      "text/plain": [
       "[2, False, None]"
      ]
     },
     "execution_count": 12,
     "metadata": {},
     "output_type": "execute_result"
    }
   ],
   "source": [
    "info_prelobby"
   ]
  },
  {
   "cell_type": "code",
   "execution_count": null,
   "id": "57cdb976-7717-4bb3-8573-fd29acd3f11e",
   "metadata": {},
   "outputs": [],
   "source": []
  },
  {
   "cell_type": "raw",
   "id": "91260b13-5351-4cf9-8884-398510185917",
   "metadata": {},
   "source": [
    "    def setup(self):\n",
    "        mocinha = [2, True, 'Mocinha']\n",
    "        isgalamido = [3, True, 'Isgalamido']\n",
    "        \n",
    "        self.gameset = Gamesets(1)\n",
    "        self.kill_method = ways_of_killing()\n",
    "        self.gameset.sets_Userinlobby(2, mocinha)\n",
    "        self.gameset.sets_Userinlobby(3, isgalamido)\n",
    "        \n",
    "    def test_kill_increment(self):\n",
    "        # Ismagalido (3) killed Mocinha (2) using (6)-> MOD_ROCKET \n",
    "        battle_result = \"1:08 Kill: 3 2 6: Isgalamido killed Mocinha by MOD_ROCKET\"\n",
    "           \n",
    "        self.gameset.kill(battle_result, self.kill_method)\n",
    "        # Game.gets_boardResume(): returns total deaths in game\n",
    "        assert self.gameset.gets_boardResume() == 1\n",
    "        # Confirming kill_by_means, attribute of kill_method, is well registered\n",
    "        assert self.kill_method.board().get('MOD_ROCKET') == 1\n",
    "        # Testing if Isgalamido have score kill == 1\n",
    "        assert self.gameset.gets_online().get(ismagalido[0]) == ['Ismagalido', 1] "
   ]
  },
  {
   "cell_type": "code",
   "execution_count": 13,
   "id": "04f9850e-ea76-4f21-a9fe-e31eb938969d",
   "metadata": {
    "tags": []
   },
   "outputs": [],
   "source": [
    "mocinha = [2, True, 'Mocinha']\n",
    "isgalamido = [3, True, 'Isgalamido']\n",
    "\n",
    "gs = Gamesets(2)\n",
    "kill_method = ways_of_killing()\n",
    "gs.sets_Userinlobby(2, mocinha)\n",
    "gs.sets_Userinlobby(3, isgalamido)"
   ]
  },
  {
   "cell_type": "code",
   "execution_count": 15,
   "id": "587f7c6d-f374-48f2-b98f-b8fb2f240252",
   "metadata": {
    "tags": []
   },
   "outputs": [
    {
     "data": {
      "text/plain": [
       "[3, True, 'Isgalamido']"
      ]
     },
     "execution_count": 15,
     "metadata": {},
     "output_type": "execute_result"
    }
   ],
   "source": [
    "gs.gets_Userinlobby(3)"
   ]
  },
  {
   "cell_type": "code",
   "execution_count": null,
   "id": "63cb0503-f4d4-4c82-9011-53ac785af8f8",
   "metadata": {},
   "outputs": [],
   "source": [
    "battle_result = \"1:08 Kill: 3 2 6: Isgalamido killed Mocinha by MOD_ROCKET\""
   ]
  }
 ],
 "metadata": {
  "kernelspec": {
   "display_name": "Python 3 (ipykernel)",
   "language": "python",
   "name": "python3"
  },
  "language_info": {
   "codemirror_mode": {
    "name": "ipython",
    "version": 3
   },
   "file_extension": ".py",
   "mimetype": "text/x-python",
   "name": "python",
   "nbconvert_exporter": "python",
   "pygments_lexer": "ipython3",
   "version": "3.11.3"
  }
 },
 "nbformat": 4,
 "nbformat_minor": 5
}
